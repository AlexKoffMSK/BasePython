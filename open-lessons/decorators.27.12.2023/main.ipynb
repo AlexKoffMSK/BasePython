{
 "cells": [
  {
   "cell_type": "code",
   "execution_count": 1,
   "id": "c6efd83b-53c2-4e2e-9691-241000c1de82",
   "metadata": {},
   "outputs": [
    {
     "name": "stdout",
     "output_type": "stream",
     "text": [
      "Hello world!\n"
     ]
    }
   ],
   "source": [
    "print(\"Hello world!\")"
   ]
  },
  {
   "cell_type": "code",
   "execution_count": 2,
   "id": "0c69bb84-26a8-4217-a1e6-213ff0ad61ab",
   "metadata": {},
   "outputs": [
    {
     "data": {
      "text/plain": [
       "3"
      ]
     },
     "execution_count": 2,
     "metadata": {},
     "output_type": "execute_result"
    }
   ],
   "source": [
    "1 + 2"
   ]
  },
  {
   "cell_type": "code",
   "execution_count": 3,
   "id": "cd2737ae-c800-44e9-8335-a68fb0b59bda",
   "metadata": {},
   "outputs": [],
   "source": [
    "def hello():\n",
    "    print(\"hello there!\")"
   ]
  },
  {
   "cell_type": "code",
   "execution_count": 4,
   "id": "a3f80dd3-9122-42d8-ad42-9cbaa0ad8870",
   "metadata": {},
   "outputs": [
    {
     "name": "stdout",
     "output_type": "stream",
     "text": [
      "hello there!\n"
     ]
    }
   ],
   "source": [
    "hello()"
   ]
  },
  {
   "cell_type": "code",
   "execution_count": 5,
   "id": "77e6e451-ac1a-4e4e-b0fb-bbeb9dd87b9c",
   "metadata": {},
   "outputs": [
    {
     "name": "stdout",
     "output_type": "stream",
     "text": [
      "hello there!\n"
     ]
    }
   ],
   "source": [
    "hello()"
   ]
  },
  {
   "cell_type": "code",
   "execution_count": 6,
   "id": "4083f274-5cc0-4037-b71e-c5c7909b3ca1",
   "metadata": {},
   "outputs": [],
   "source": [
    "def create_announced(func):\n",
    "    \n",
    "    def inner_announce():\n",
    "        print(\"run func\", func.__name__)\n",
    "        func()\n",
    "        print(\"done func\", func)\n",
    "\n",
    "    return inner_announce"
   ]
  },
  {
   "cell_type": "code",
   "execution_count": 7,
   "id": "ffef2d67-31c4-4647-963b-6e1fb63a83db",
   "metadata": {},
   "outputs": [
    {
     "data": {
      "text/plain": [
       "<function __main__.create_announced.<locals>.inner_announce()>"
      ]
     },
     "execution_count": 7,
     "metadata": {},
     "output_type": "execute_result"
    }
   ],
   "source": [
    "create_announced(\"abc\")"
   ]
  },
  {
   "cell_type": "code",
   "execution_count": 8,
   "id": "21b11b14-f682-4efe-8a91-e9a21d111987",
   "metadata": {},
   "outputs": [
    {
     "data": {
      "text/plain": [
       "<function __main__.create_announced.<locals>.inner_announce()>"
      ]
     },
     "execution_count": 8,
     "metadata": {},
     "output_type": "execute_result"
    }
   ],
   "source": [
    "create_announced(hello)"
   ]
  },
  {
   "cell_type": "code",
   "execution_count": 9,
   "id": "5b19c691-d044-40d2-9c5c-c0a5afa5888e",
   "metadata": {},
   "outputs": [
    {
     "name": "stdout",
     "output_type": "stream",
     "text": [
      "run func hello\n",
      "hello there!\n",
      "done func <function hello at 0x10511a7a0>\n"
     ]
    }
   ],
   "source": [
    "create_announced(hello)()"
   ]
  },
  {
   "cell_type": "code",
   "execution_count": 10,
   "id": "e508ac29-bee7-48f1-904b-ad92e06f884b",
   "metadata": {},
   "outputs": [
    {
     "data": {
      "text/plain": [
       "<function __main__.create_announced.<locals>.inner_announce()>"
      ]
     },
     "execution_count": 10,
     "metadata": {},
     "output_type": "execute_result"
    }
   ],
   "source": [
    "hello_announced = create_announced(hello)\n",
    "hello_announced"
   ]
  },
  {
   "cell_type": "code",
   "execution_count": 11,
   "id": "69e16b61-f82a-47c0-bcb7-cc4192ff932c",
   "metadata": {},
   "outputs": [
    {
     "name": "stdout",
     "output_type": "stream",
     "text": [
      "run func hello\n",
      "hello there!\n",
      "done func <function hello at 0x10511a7a0>\n"
     ]
    }
   ],
   "source": [
    "hello_announced()"
   ]
  },
  {
   "cell_type": "code",
   "execution_count": 12,
   "id": "7fb6b449-e7dd-4f2a-885d-bfb8c16f5958",
   "metadata": {},
   "outputs": [],
   "source": [
    "@create_announced\n",
    "def greet():\n",
    "    print(\"Hi again!\")\n",
    "\n",
    "# greet_announced = create_announced(greet)\n",
    "# greet_announced()"
   ]
  },
  {
   "cell_type": "code",
   "execution_count": 13,
   "id": "5e5aa00c-34e1-4fa5-a9ea-0776fe057e8a",
   "metadata": {},
   "outputs": [
    {
     "name": "stdout",
     "output_type": "stream",
     "text": [
      "run func greet\n",
      "Hi again!\n",
      "done func <function greet at 0x10511aa20>\n"
     ]
    }
   ],
   "source": [
    "greet()"
   ]
  },
  {
   "cell_type": "code",
   "execution_count": 14,
   "id": "eeb063b3-2d6b-48b0-b390-3c1f0d6208a4",
   "metadata": {},
   "outputs": [
    {
     "name": "stdout",
     "output_type": "stream",
     "text": [
      "<function create_announced.<locals>.inner_announce at 0x10511b740>\n"
     ]
    }
   ],
   "source": [
    "print(greet)"
   ]
  },
  {
   "cell_type": "code",
   "execution_count": 15,
   "id": "da61a8a1-f29b-4d15-9255-c525f98e79ce",
   "metadata": {},
   "outputs": [],
   "source": [
    "def say_hi(name):\n",
    "    return f\"Hello, {name}!\""
   ]
  },
  {
   "cell_type": "code",
   "execution_count": 16,
   "id": "d1ad3ac9-796e-4aed-b65c-e9ff1f3543b9",
   "metadata": {},
   "outputs": [
    {
     "data": {
      "text/plain": [
       "'Hello, Bob!'"
      ]
     },
     "execution_count": 16,
     "metadata": {},
     "output_type": "execute_result"
    }
   ],
   "source": [
    "say_hi(\"Bob\")"
   ]
  },
  {
   "cell_type": "code",
   "execution_count": 17,
   "id": "9af8710e-60ff-4120-96d1-7c22683c63ca",
   "metadata": {},
   "outputs": [
    {
     "data": {
      "text/plain": [
       "'Hello, John!'"
      ]
     },
     "execution_count": 17,
     "metadata": {},
     "output_type": "execute_result"
    }
   ],
   "source": [
    "first_name = \"John\"\n",
    "say_hi(first_name)"
   ]
  },
  {
   "cell_type": "code",
   "execution_count": 18,
   "id": "2209ed9a-d870-4b71-b068-a37f7adb5f9b",
   "metadata": {},
   "outputs": [
    {
     "name": "stdout",
     "output_type": "stream",
     "text": [
      "Hello, John!\n"
     ]
    }
   ],
   "source": [
    "print(say_hi(first_name))"
   ]
  },
  {
   "cell_type": "code",
   "execution_count": 19,
   "id": "b4983931-639b-4223-a800-8cecc2aecfce",
   "metadata": {},
   "outputs": [
    {
     "name": "stdout",
     "output_type": "stream",
     "text": [
      "run func greet\n",
      "Hi again!\n",
      "done func <function greet at 0x10511aa20>\n",
      "None\n"
     ]
    }
   ],
   "source": [
    "print(greet())"
   ]
  },
  {
   "cell_type": "code",
   "execution_count": 29,
   "id": "50cde242-f8a6-40d7-a530-e2faf0dc6b8f",
   "metadata": {},
   "outputs": [],
   "source": [
    "def announce_with_arg(func):\n",
    "\n",
    "    def inner(n):\n",
    "        print(\"call func\", func.__name__, \"with arg\", n)\n",
    "        result = func(n)\n",
    "        print(\"call result:\", result)\n",
    "        return result\n",
    "\n",
    "    return inner"
   ]
  },
  {
   "cell_type": "code",
   "execution_count": 26,
   "id": "ab214443-dad4-4303-8f80-77f0b5550799",
   "metadata": {},
   "outputs": [],
   "source": [
    "@announce_with_arg\n",
    "def say_hi(name):\n",
    "    return f\"Hello, {name}!\""
   ]
  },
  {
   "cell_type": "code",
   "execution_count": 27,
   "id": "30923c19-2df9-472e-9e2d-a3f85e073d8d",
   "metadata": {},
   "outputs": [
    {
     "name": "stdout",
     "output_type": "stream",
     "text": [
      "<function announce_with_arg.<locals>.inner at 0x1051d5a80>\n"
     ]
    }
   ],
   "source": [
    "print(say_hi)"
   ]
  },
  {
   "cell_type": "code",
   "execution_count": 28,
   "id": "96735f52-113e-483b-8411-db934862b1c5",
   "metadata": {},
   "outputs": [
    {
     "name": "stdout",
     "output_type": "stream",
     "text": [
      "call func say_hi with arg John\n",
      "call result: Hello, John!\n"
     ]
    },
    {
     "data": {
      "text/plain": [
       "'Hello, John!'"
      ]
     },
     "execution_count": 28,
     "metadata": {},
     "output_type": "execute_result"
    }
   ],
   "source": [
    "say_hi(first_name)"
   ]
  },
  {
   "cell_type": "code",
   "execution_count": 30,
   "id": "595d77a8-c386-4cfd-a1dc-fc5f839a02d1",
   "metadata": {},
   "outputs": [],
   "source": [
    "@announce_with_arg\n",
    "def fac(n):\n",
    "    if n <= 2:\n",
    "        return n\n",
    "    return n * fac(n - 1)"
   ]
  },
  {
   "cell_type": "code",
   "execution_count": 31,
   "id": "9e34ea1c-0836-4a24-8e41-b9c897399ccb",
   "metadata": {},
   "outputs": [
    {
     "name": "stdout",
     "output_type": "stream",
     "text": [
      "call func fac with arg 3\n",
      "call func fac with arg 2\n",
      "call result: 2\n",
      "call result: 6\n"
     ]
    },
    {
     "data": {
      "text/plain": [
       "6"
      ]
     },
     "execution_count": 31,
     "metadata": {},
     "output_type": "execute_result"
    }
   ],
   "source": [
    "fac(3)"
   ]
  },
  {
   "cell_type": "code",
   "execution_count": 32,
   "id": "1b1d4b07-8512-4901-8bd0-afce38e20a5b",
   "metadata": {},
   "outputs": [
    {
     "name": "stdout",
     "output_type": "stream",
     "text": [
      "call func fac with arg 5\n",
      "call func fac with arg 4\n",
      "call func fac with arg 3\n",
      "call func fac with arg 2\n",
      "call result: 2\n",
      "call result: 6\n",
      "call result: 24\n",
      "call result: 120\n"
     ]
    },
    {
     "data": {
      "text/plain": [
       "120"
      ]
     },
     "execution_count": 32,
     "metadata": {},
     "output_type": "execute_result"
    }
   ],
   "source": [
    "fac(5)"
   ]
  },
  {
   "cell_type": "code",
   "execution_count": 33,
   "id": "ac452d22-538f-464a-acc9-7987b76215fc",
   "metadata": {},
   "outputs": [
    {
     "data": {
      "text/plain": [
       "<function __main__.announce_with_arg.<locals>.inner(n)>"
      ]
     },
     "execution_count": 33,
     "metadata": {},
     "output_type": "execute_result"
    }
   ],
   "source": [
    "fac"
   ]
  },
  {
   "cell_type": "code",
   "execution_count": 34,
   "id": "76245f76-a6df-45ae-aa8b-81b889e90e73",
   "metadata": {},
   "outputs": [
    {
     "name": "stdout",
     "output_type": "stream",
     "text": [
      "call func fac with arg 6\n",
      "call func fac with arg 5\n",
      "call func fac with arg 4\n",
      "call func fac with arg 3\n",
      "call func fac with arg 2\n",
      "call result: 2\n",
      "call result: 6\n",
      "call result: 24\n",
      "call result: 120\n",
      "call result: 720\n"
     ]
    },
    {
     "data": {
      "text/plain": [
       "720"
      ]
     },
     "execution_count": 34,
     "metadata": {},
     "output_type": "execute_result"
    }
   ],
   "source": [
    "fac(6)"
   ]
  },
  {
   "cell_type": "code",
   "execution_count": 35,
   "id": "7d6cbcae-c067-4e17-a3a0-9a763230c6d3",
   "metadata": {},
   "outputs": [],
   "source": [
    "from functools import wraps\n",
    "\n",
    "\n",
    "def cached(func):\n",
    "\n",
    "    func.cache = {}\n",
    "\n",
    "    @wraps(func)\n",
    "    def wrapper(*args):\n",
    "        if args not in func.cache:\n",
    "            func.cache[args] = func(*args)\n",
    "        return func.cache[args]\n",
    "\n",
    "    return wrapper\n"
   ]
  },
  {
   "cell_type": "code",
   "execution_count": 36,
   "id": "57a6670e-3a0d-4c1c-8df6-78ba44a0c916",
   "metadata": {},
   "outputs": [],
   "source": [
    "@cached\n",
    "# @announce_with_arg\n",
    "def fac(n):\n",
    "    if n <= 2:\n",
    "        return n\n",
    "    return n * fac(n - 1)"
   ]
  },
  {
   "cell_type": "code",
   "execution_count": 37,
   "id": "df723bb1-fa6e-4873-abeb-b73520fd2abf",
   "metadata": {},
   "outputs": [
    {
     "name": "stdout",
     "output_type": "stream",
     "text": [
      "<function fac at 0x1051d6160>\n"
     ]
    }
   ],
   "source": [
    "print(fac)"
   ]
  },
  {
   "cell_type": "code",
   "execution_count": 38,
   "id": "c86ec930-7383-4ae7-9e42-5e98eb382ae5",
   "metadata": {},
   "outputs": [
    {
     "data": {
      "text/plain": [
       "<function __main__.fac(n)>"
      ]
     },
     "execution_count": 38,
     "metadata": {},
     "output_type": "execute_result"
    }
   ],
   "source": [
    "fac.__wrapped__"
   ]
  },
  {
   "cell_type": "code",
   "execution_count": 39,
   "id": "3daf7fb0-b2ec-4473-89bb-dfefc876eb7d",
   "metadata": {},
   "outputs": [
    {
     "data": {
      "text/plain": [
       "<function __main__.fac(n)>"
      ]
     },
     "execution_count": 39,
     "metadata": {},
     "output_type": "execute_result"
    }
   ],
   "source": [
    "fac"
   ]
  },
  {
   "cell_type": "code",
   "execution_count": 40,
   "id": "9a01031b-e1da-44ed-9de3-0f75940e0c31",
   "metadata": {},
   "outputs": [],
   "source": [
    "def announce_with_args(func):\n",
    "\n",
    "    @wraps(func)\n",
    "    def inner(*args):\n",
    "        print(\"call func\", func.__name__, \"with args\", args)\n",
    "        result = func(*args)\n",
    "        print(\"call result:\", result)\n",
    "        return result\n",
    "\n",
    "    return inner"
   ]
  },
  {
   "cell_type": "code",
   "execution_count": 41,
   "id": "f7d5de67-16ae-4fee-9d8d-ba06d4cb4834",
   "metadata": {},
   "outputs": [],
   "source": [
    "@cached\n",
    "@announce_with_args\n",
    "def fac(n):\n",
    "    if n <= 2:\n",
    "        return n\n",
    "    return n * fac(n - 1)"
   ]
  },
  {
   "cell_type": "code",
   "execution_count": 42,
   "id": "e1cf7f15-f81f-4389-99fd-43d96c8143ec",
   "metadata": {},
   "outputs": [
    {
     "data": {
      "text/plain": [
       "<function __main__.fac(n)>"
      ]
     },
     "execution_count": 42,
     "metadata": {},
     "output_type": "execute_result"
    }
   ],
   "source": [
    "fac"
   ]
  },
  {
   "cell_type": "code",
   "execution_count": 43,
   "id": "bca725ca-058b-4e11-97f7-7825868e7e96",
   "metadata": {},
   "outputs": [
    {
     "name": "stdout",
     "output_type": "stream",
     "text": [
      "call func fac with args (3,)\n",
      "call func fac with args (2,)\n",
      "call result: 2\n",
      "call result: 6\n"
     ]
    },
    {
     "data": {
      "text/plain": [
       "6"
      ]
     },
     "execution_count": 43,
     "metadata": {},
     "output_type": "execute_result"
    }
   ],
   "source": [
    "fac(3)"
   ]
  },
  {
   "cell_type": "code",
   "execution_count": 44,
   "id": "70cb2c7e-7a71-4660-97d1-4b5fa24b86ba",
   "metadata": {},
   "outputs": [
    {
     "data": {
      "text/plain": [
       "6"
      ]
     },
     "execution_count": 44,
     "metadata": {},
     "output_type": "execute_result"
    }
   ],
   "source": [
    "fac(3)"
   ]
  },
  {
   "cell_type": "code",
   "execution_count": 45,
   "id": "df422f24-0b1b-48de-bb77-22ea0a33e2f1",
   "metadata": {},
   "outputs": [
    {
     "name": "stdout",
     "output_type": "stream",
     "text": [
      "call func fac with args (5,)\n",
      "call func fac with args (4,)\n",
      "call result: 24\n",
      "call result: 120\n"
     ]
    },
    {
     "data": {
      "text/plain": [
       "120"
      ]
     },
     "execution_count": 45,
     "metadata": {},
     "output_type": "execute_result"
    }
   ],
   "source": [
    "fac(5)"
   ]
  },
  {
   "cell_type": "code",
   "execution_count": 46,
   "id": "13f0f9c2-8c76-4351-b08a-05455abab3e5",
   "metadata": {},
   "outputs": [
    {
     "name": "stdout",
     "output_type": "stream",
     "text": [
      "call func fac with args (6,)\n",
      "call result: 720\n"
     ]
    },
    {
     "data": {
      "text/plain": [
       "720"
      ]
     },
     "execution_count": 46,
     "metadata": {},
     "output_type": "execute_result"
    }
   ],
   "source": [
    "fac(6)"
   ]
  },
  {
   "cell_type": "code",
   "execution_count": 47,
   "id": "efdb6eb5-5069-4e13-8a03-0cad0e7393b8",
   "metadata": {},
   "outputs": [
    {
     "data": {
      "text/plain": [
       "<function __main__.fac(n)>"
      ]
     },
     "execution_count": 47,
     "metadata": {},
     "output_type": "execute_result"
    }
   ],
   "source": [
    "fac.__wrapped__"
   ]
  },
  {
   "cell_type": "code",
   "execution_count": 48,
   "id": "7bb95446-0dbe-4ba9-bfe1-9daddb21f07b",
   "metadata": {},
   "outputs": [
    {
     "data": {
      "text/plain": [
       "<function __main__.fac(n)>"
      ]
     },
     "execution_count": 48,
     "metadata": {},
     "output_type": "execute_result"
    }
   ],
   "source": [
    "fac.__wrapped__.__wrapped__"
   ]
  },
  {
   "cell_type": "code",
   "execution_count": 49,
   "id": "317533b0-adcb-464e-a177-8c48911ae2a6",
   "metadata": {},
   "outputs": [
    {
     "data": {
      "text/plain": [
       "6"
      ]
     },
     "execution_count": 49,
     "metadata": {},
     "output_type": "execute_result"
    }
   ],
   "source": [
    "fac.__wrapped__.__wrapped__(3)"
   ]
  },
  {
   "cell_type": "code",
   "execution_count": 50,
   "id": "620fc6a6-29b6-47a3-a420-6ca4940ef1c0",
   "metadata": {},
   "outputs": [
    {
     "name": "stdout",
     "output_type": "stream",
     "text": [
      "call func fac with args (9,)\n",
      "call func fac with args (8,)\n",
      "call func fac with args (7,)\n",
      "call result: 5040\n",
      "call result: 40320\n",
      "call result: 362880\n"
     ]
    },
    {
     "data": {
      "text/plain": [
       "3628800"
      ]
     },
     "execution_count": 50,
     "metadata": {},
     "output_type": "execute_result"
    }
   ],
   "source": [
    "fac.__wrapped__.__wrapped__(10)"
   ]
  },
  {
   "cell_type": "code",
   "execution_count": 51,
   "id": "8110dd2f-dc84-4d45-a18d-330d009bbaac",
   "metadata": {},
   "outputs": [
    {
     "name": "stdout",
     "output_type": "stream",
     "text": [
      "<function fac at 0x1051d6700>\n"
     ]
    }
   ],
   "source": [
    "print(fac)"
   ]
  },
  {
   "cell_type": "code",
   "execution_count": 52,
   "id": "15b0993c-0032-46d3-a72a-1e4995310fb7",
   "metadata": {},
   "outputs": [
    {
     "name": "stdout",
     "output_type": "stream",
     "text": [
      "<function fac at 0x1051d6520>\n"
     ]
    }
   ],
   "source": [
    "print(fac.__wrapped__)"
   ]
  },
  {
   "cell_type": "code",
   "execution_count": 53,
   "id": "9323477f-f396-4543-b12c-09c0199c90fc",
   "metadata": {},
   "outputs": [
    {
     "name": "stdout",
     "output_type": "stream",
     "text": [
      "<function fac at 0x1051d6480>\n"
     ]
    }
   ],
   "source": [
    "print(fac.__wrapped__.__wrapped__)"
   ]
  },
  {
   "cell_type": "code",
   "execution_count": 55,
   "id": "fc728785-5361-4442-abda-97af3f8f26cf",
   "metadata": {},
   "outputs": [],
   "source": [
    "@cached\n",
    "@announce_with_args\n",
    "def fac(n):\n",
    "    print(\"orig call with\", n)\n",
    "    if n <= 2:\n",
    "        return n\n",
    "    return n * fac(n - 1)"
   ]
  },
  {
   "cell_type": "code",
   "execution_count": 56,
   "id": "7da135c4-7242-4e3b-b8ff-a40aa202f470",
   "metadata": {},
   "outputs": [
    {
     "name": "stdout",
     "output_type": "stream",
     "text": [
      "call func fac with args (4,)\n",
      "orig call with 4\n",
      "call func fac with args (3,)\n",
      "orig call with 3\n",
      "call func fac with args (2,)\n",
      "orig call with 2\n",
      "call result: 2\n",
      "call result: 6\n",
      "call result: 24\n"
     ]
    },
    {
     "data": {
      "text/plain": [
       "24"
      ]
     },
     "execution_count": 56,
     "metadata": {},
     "output_type": "execute_result"
    }
   ],
   "source": [
    "fac(4)"
   ]
  },
  {
   "cell_type": "code",
   "execution_count": 57,
   "id": "5d4431e0-9a13-425b-829f-97e1d1f17fdf",
   "metadata": {},
   "outputs": [
    {
     "name": "stdout",
     "output_type": "stream",
     "text": [
      "call func fac with args (5,)\n",
      "orig call with 5\n",
      "call result: 120\n"
     ]
    },
    {
     "data": {
      "text/plain": [
       "120"
      ]
     },
     "execution_count": 57,
     "metadata": {},
     "output_type": "execute_result"
    }
   ],
   "source": [
    "fac(5)"
   ]
  },
  {
   "cell_type": "code",
   "execution_count": 58,
   "id": "4fdff734-c4b3-4b20-937d-5679e31b55c5",
   "metadata": {},
   "outputs": [
    {
     "data": {
      "text/plain": [
       "120"
      ]
     },
     "execution_count": 58,
     "metadata": {},
     "output_type": "execute_result"
    }
   ],
   "source": [
    "fac(5)"
   ]
  },
  {
   "cell_type": "code",
   "execution_count": 59,
   "id": "541f3d58-7724-4212-8105-b826d4d1ae49",
   "metadata": {},
   "outputs": [
    {
     "name": "stdout",
     "output_type": "stream",
     "text": [
      "call func fac with args (4,)\n",
      "orig call with 4\n",
      "call result: 24\n"
     ]
    },
    {
     "data": {
      "text/plain": [
       "24"
      ]
     },
     "execution_count": 59,
     "metadata": {},
     "output_type": "execute_result"
    }
   ],
   "source": [
    "fac.__wrapped__(4)"
   ]
  },
  {
   "cell_type": "code",
   "execution_count": 60,
   "id": "f6bb618f-2b4f-47b2-8f89-b308315a2db7",
   "metadata": {},
   "outputs": [
    {
     "name": "stdout",
     "output_type": "stream",
     "text": [
      "call func fac with args (5,)\n",
      "orig call with 5\n",
      "call result: 120\n"
     ]
    },
    {
     "data": {
      "text/plain": [
       "120"
      ]
     },
     "execution_count": 60,
     "metadata": {},
     "output_type": "execute_result"
    }
   ],
   "source": [
    "fac.__wrapped__(5)"
   ]
  },
  {
   "cell_type": "code",
   "execution_count": 61,
   "id": "3e0ac264-dbbe-4d2c-b7fe-1c7a25d23887",
   "metadata": {},
   "outputs": [
    {
     "name": "stdout",
     "output_type": "stream",
     "text": [
      "call func fac with args (4,)\n",
      "orig call with 4\n",
      "call result: 24\n"
     ]
    },
    {
     "data": {
      "text/plain": [
       "24"
      ]
     },
     "execution_count": 61,
     "metadata": {},
     "output_type": "execute_result"
    }
   ],
   "source": [
    "fac.__wrapped__(4)"
   ]
  },
  {
   "cell_type": "code",
   "execution_count": 62,
   "id": "10c93117-153c-470e-ab7b-f98914b63adc",
   "metadata": {},
   "outputs": [
    {
     "name": "stdout",
     "output_type": "stream",
     "text": [
      "call func fac with args (5,)\n",
      "orig call with 5\n",
      "call result: 120\n"
     ]
    },
    {
     "data": {
      "text/plain": [
       "120"
      ]
     },
     "execution_count": 62,
     "metadata": {},
     "output_type": "execute_result"
    }
   ],
   "source": [
    "fac.__wrapped__(5)"
   ]
  },
  {
   "cell_type": "code",
   "execution_count": 63,
   "id": "af1641f0-eb7f-4ca3-8fac-49d8e25cc611",
   "metadata": {},
   "outputs": [
    {
     "name": "stdout",
     "output_type": "stream",
     "text": [
      "orig call with 5\n"
     ]
    },
    {
     "data": {
      "text/plain": [
       "120"
      ]
     },
     "execution_count": 63,
     "metadata": {},
     "output_type": "execute_result"
    }
   ],
   "source": [
    "fac.__wrapped__.__wrapped__(5)"
   ]
  },
  {
   "cell_type": "code",
   "execution_count": 64,
   "id": "39cf1ae6-fecd-426c-b1e0-bba330ca7253",
   "metadata": {},
   "outputs": [
    {
     "name": "stdout",
     "output_type": "stream",
     "text": [
      "orig call with 5\n"
     ]
    },
    {
     "data": {
      "text/plain": [
       "120"
      ]
     },
     "execution_count": 64,
     "metadata": {},
     "output_type": "execute_result"
    }
   ],
   "source": [
    "fac.__wrapped__.__wrapped__(5)"
   ]
  },
  {
   "cell_type": "code",
   "execution_count": 65,
   "id": "4d8d7e6d-98c3-4a76-8baa-89742553ccf2",
   "metadata": {},
   "outputs": [],
   "source": [
    "from functools import cache\n",
    "\n",
    "\n",
    "@cache\n",
    "def fib(n):\n",
    "    if n < 2:\n",
    "        return n\n",
    "    return fib(n - 1) + fib(n - 2)"
   ]
  },
  {
   "cell_type": "code",
   "execution_count": 66,
   "id": "5909997e-62d5-4c1e-a57e-9d23e6b3e6e8",
   "metadata": {},
   "outputs": [
    {
     "data": {
      "text/plain": [
       "55"
      ]
     },
     "execution_count": 66,
     "metadata": {},
     "output_type": "execute_result"
    }
   ],
   "source": [
    "fib(10)"
   ]
  },
  {
   "cell_type": "code",
   "execution_count": 67,
   "id": "54db43f6-15e5-4181-bf7d-8380fc4d3f05",
   "metadata": {},
   "outputs": [
    {
     "data": {
      "text/plain": [
       "[1,\n",
       " 1,\n",
       " 2,\n",
       " 3,\n",
       " 5,\n",
       " 8,\n",
       " 13,\n",
       " 21,\n",
       " 34,\n",
       " 55,\n",
       " 89,\n",
       " 144,\n",
       " 233,\n",
       " 377,\n",
       " 610,\n",
       " 987,\n",
       " 1597,\n",
       " 2584,\n",
       " 4181,\n",
       " 6765,\n",
       " 10946,\n",
       " 17711,\n",
       " 28657,\n",
       " 46368,\n",
       " 75025,\n",
       " 121393,\n",
       " 196418,\n",
       " 317811,\n",
       " 514229,\n",
       " 832040,\n",
       " 1346269,\n",
       " 2178309,\n",
       " 3524578,\n",
       " 5702887,\n",
       " 9227465,\n",
       " 14930352,\n",
       " 24157817,\n",
       " 39088169,\n",
       " 63245986,\n",
       " 102334155,\n",
       " 165580141,\n",
       " 267914296,\n",
       " 433494437,\n",
       " 701408733,\n",
       " 1134903170,\n",
       " 1836311903,\n",
       " 2971215073,\n",
       " 4807526976,\n",
       " 7778742049,\n",
       " 12586269025,\n",
       " 20365011074,\n",
       " 32951280099,\n",
       " 53316291173,\n",
       " 86267571272,\n",
       " 139583862445,\n",
       " 225851433717,\n",
       " 365435296162,\n",
       " 591286729879,\n",
       " 956722026041,\n",
       " 1548008755920,\n",
       " 2504730781961,\n",
       " 4052739537881,\n",
       " 6557470319842,\n",
       " 10610209857723,\n",
       " 17167680177565,\n",
       " 27777890035288,\n",
       " 44945570212853,\n",
       " 72723460248141,\n",
       " 117669030460994,\n",
       " 190392490709135,\n",
       " 308061521170129,\n",
       " 498454011879264,\n",
       " 806515533049393,\n",
       " 1304969544928657,\n",
       " 2111485077978050,\n",
       " 3416454622906707,\n",
       " 5527939700884757,\n",
       " 8944394323791464,\n",
       " 14472334024676221,\n",
       " 23416728348467685,\n",
       " 37889062373143906,\n",
       " 61305790721611591,\n",
       " 99194853094755497,\n",
       " 160500643816367088,\n",
       " 259695496911122585,\n",
       " 420196140727489673,\n",
       " 679891637638612258,\n",
       " 1100087778366101931,\n",
       " 1779979416004714189,\n",
       " 2880067194370816120,\n",
       " 4660046610375530309,\n",
       " 7540113804746346429,\n",
       " 12200160415121876738,\n",
       " 19740274219868223167,\n",
       " 31940434634990099905,\n",
       " 51680708854858323072,\n",
       " 83621143489848422977,\n",
       " 135301852344706746049,\n",
       " 218922995834555169026,\n",
       " 354224848179261915075]"
      ]
     },
     "execution_count": 67,
     "metadata": {},
     "output_type": "execute_result"
    }
   ],
   "source": [
    "[fib(i) for i in range(1, 101)]"
   ]
  },
  {
   "cell_type": "code",
   "execution_count": 68,
   "id": "8725ef4d-c07c-40b9-bf6c-eb78e4d07112",
   "metadata": {},
   "outputs": [
    {
     "data": {
      "text/plain": [
       "<functools._lru_cache_wrapper at 0x1051a6f00>"
      ]
     },
     "execution_count": 68,
     "metadata": {},
     "output_type": "execute_result"
    }
   ],
   "source": [
    "fib"
   ]
  },
  {
   "cell_type": "code",
   "execution_count": 69,
   "id": "ec088bd9-2d11-4de7-a272-2e3e6f86ea70",
   "metadata": {},
   "outputs": [
    {
     "name": "stdout",
     "output_type": "stream",
     "text": [
      "<functools._lru_cache_wrapper object at 0x1051a6f00>\n"
     ]
    }
   ],
   "source": [
    "print(fib)"
   ]
  },
  {
   "cell_type": "code",
   "execution_count": 70,
   "id": "e6b4da97-942b-47ea-aef6-a50ad9009f38",
   "metadata": {},
   "outputs": [
    {
     "data": {
      "text/plain": [
       "CacheInfo(hits=198, misses=101, maxsize=None, currsize=101)"
      ]
     },
     "execution_count": 70,
     "metadata": {},
     "output_type": "execute_result"
    }
   ],
   "source": [
    "fib.cache_info()"
   ]
  },
  {
   "cell_type": "code",
   "execution_count": 71,
   "id": "8c754f1f-8c5b-4cb9-970a-36df1f7b6a4b",
   "metadata": {},
   "outputs": [],
   "source": [
    "fib.cache_clear()"
   ]
  },
  {
   "cell_type": "code",
   "execution_count": 72,
   "id": "31ab3d89-0c12-4e98-b039-35ee52fb9e36",
   "metadata": {},
   "outputs": [
    {
     "data": {
      "text/plain": [
       "CacheInfo(hits=0, misses=0, maxsize=None, currsize=0)"
      ]
     },
     "execution_count": 72,
     "metadata": {},
     "output_type": "execute_result"
    }
   ],
   "source": [
    "fib.cache_info()"
   ]
  },
  {
   "cell_type": "code",
   "execution_count": 73,
   "id": "bdddff66-6194-4f0b-8445-9331d4b7c14b",
   "metadata": {},
   "outputs": [
    {
     "data": {
      "text/plain": [
       "[1, 1, 2, 3, 5, 8, 13, 21, 34, 55]"
      ]
     },
     "execution_count": 73,
     "metadata": {},
     "output_type": "execute_result"
    }
   ],
   "source": [
    "[fib(i) for i in range(1, 11)]"
   ]
  },
  {
   "cell_type": "code",
   "execution_count": 74,
   "id": "6273e27c-4fc4-4314-8812-80422cc8d751",
   "metadata": {},
   "outputs": [
    {
     "data": {
      "text/plain": [
       "CacheInfo(hits=17, misses=11, maxsize=None, currsize=11)"
      ]
     },
     "execution_count": 74,
     "metadata": {},
     "output_type": "execute_result"
    }
   ],
   "source": [
    "fib.cache_info()"
   ]
  },
  {
   "cell_type": "code",
   "execution_count": 75,
   "id": "1a1501b9-763b-4950-a830-ce45ce076f03",
   "metadata": {},
   "outputs": [
    {
     "data": {
      "text/plain": [
       "89"
      ]
     },
     "execution_count": 75,
     "metadata": {},
     "output_type": "execute_result"
    }
   ],
   "source": [
    "fib(n=11)"
   ]
  },
  {
   "cell_type": "code",
   "execution_count": 76,
   "id": "bad6ca13-5764-4e98-b75d-fe4af3b10438",
   "metadata": {},
   "outputs": [],
   "source": [
    "from functools import cache\n",
    "\n",
    "\n",
    "@cache\n",
    "def fib(n):\n",
    "    \"\"\"\n",
    "    Finds fib for n\n",
    "    \"\"\"\n",
    "    if n < 2:\n",
    "        return n\n",
    "    return fib(n - 1) + fib(n - 2)"
   ]
  },
  {
   "cell_type": "code",
   "execution_count": 77,
   "id": "f0298418-e03e-47f9-a6dd-ee926dc48b22",
   "metadata": {},
   "outputs": [
    {
     "data": {
      "text/plain": [
       "<functools._lru_cache_wrapper at 0x1051a6b90>"
      ]
     },
     "execution_count": 77,
     "metadata": {},
     "output_type": "execute_result"
    }
   ],
   "source": [
    "fib"
   ]
  },
  {
   "cell_type": "code",
   "execution_count": 78,
   "id": "97153877-aef1-469f-a2db-3577bb8c0591",
   "metadata": {},
   "outputs": [
    {
     "name": "stdout",
     "output_type": "stream",
     "text": [
      "<functools._lru_cache_wrapper object at 0x1051a6b90>\n"
     ]
    }
   ],
   "source": [
    "print(fib)"
   ]
  },
  {
   "cell_type": "code",
   "execution_count": 79,
   "id": "db2609c8-59a4-4118-853b-72faa9714ba3",
   "metadata": {},
   "outputs": [
    {
     "data": {
      "text/plain": [
       "'fib'"
      ]
     },
     "execution_count": 79,
     "metadata": {},
     "output_type": "execute_result"
    }
   ],
   "source": [
    "fib.__name__"
   ]
  },
  {
   "cell_type": "code",
   "execution_count": 80,
   "id": "bf11d5c4-8a2c-4bb3-a36e-ac59abc71558",
   "metadata": {},
   "outputs": [
    {
     "data": {
      "text/plain": [
       "'\\n    Finds fib for n\\n    '"
      ]
     },
     "execution_count": 80,
     "metadata": {},
     "output_type": "execute_result"
    }
   ],
   "source": [
    "fib.__doc__"
   ]
  },
  {
   "cell_type": "code",
   "execution_count": 81,
   "id": "0c09647f-40fe-485d-859e-6bbef4eeab33",
   "metadata": {},
   "outputs": [
    {
     "name": "stdout",
     "output_type": "stream",
     "text": [
      "\n",
      "    Finds fib for n\n",
      "    \n"
     ]
    }
   ],
   "source": [
    "print(fib.__doc__)"
   ]
  },
  {
   "cell_type": "code",
   "execution_count": 82,
   "id": "56877f56-7569-48cd-b417-e88d39963434",
   "metadata": {},
   "outputs": [
    {
     "data": {
      "text/plain": [
       "CacheInfo(hits=0, misses=0, maxsize=None, currsize=0)"
      ]
     },
     "execution_count": 82,
     "metadata": {},
     "output_type": "execute_result"
    }
   ],
   "source": [
    "fib.cache_info()"
   ]
  },
  {
   "cell_type": "code",
   "execution_count": 83,
   "id": "12ad1e44-ec59-42e7-93b0-e03a5bcea2ea",
   "metadata": {},
   "outputs": [
    {
     "data": {
      "text/plain": [
       "2"
      ]
     },
     "execution_count": 83,
     "metadata": {},
     "output_type": "execute_result"
    }
   ],
   "source": [
    "fib(3)"
   ]
  },
  {
   "cell_type": "code",
   "execution_count": 84,
   "id": "2c93f282-c3ae-421c-876f-df2fb1c4b166",
   "metadata": {},
   "outputs": [
    {
     "data": {
      "text/plain": [
       "CacheInfo(hits=1, misses=4, maxsize=None, currsize=4)"
      ]
     },
     "execution_count": 84,
     "metadata": {},
     "output_type": "execute_result"
    }
   ],
   "source": [
    "fib.cache_info()"
   ]
  },
  {
   "cell_type": "code",
   "execution_count": 85,
   "id": "9f0c1b27-a924-4463-9c45-6b6c1ea67e83",
   "metadata": {},
   "outputs": [
    {
     "data": {
      "text/plain": [
       "2"
      ]
     },
     "execution_count": 85,
     "metadata": {},
     "output_type": "execute_result"
    }
   ],
   "source": [
    "fib(3)"
   ]
  },
  {
   "cell_type": "code",
   "execution_count": 86,
   "id": "977a06b4-4a43-4e11-bccc-36b6dc19b1bc",
   "metadata": {},
   "outputs": [
    {
     "data": {
      "text/plain": [
       "CacheInfo(hits=2, misses=4, maxsize=None, currsize=4)"
      ]
     },
     "execution_count": 86,
     "metadata": {},
     "output_type": "execute_result"
    }
   ],
   "source": [
    "fib.cache_info()"
   ]
  },
  {
   "cell_type": "code",
   "execution_count": 87,
   "id": "87201c72-aff1-4358-be42-e71407b3a4b1",
   "metadata": {},
   "outputs": [
    {
     "data": {
      "text/plain": [
       "2"
      ]
     },
     "execution_count": 87,
     "metadata": {},
     "output_type": "execute_result"
    }
   ],
   "source": [
    "fib(n=3)"
   ]
  },
  {
   "cell_type": "code",
   "execution_count": 88,
   "id": "9beafbd0-f81c-4bad-8421-b48b298e8aba",
   "metadata": {},
   "outputs": [
    {
     "data": {
      "text/plain": [
       "CacheInfo(hits=4, misses=5, maxsize=None, currsize=5)"
      ]
     },
     "execution_count": 88,
     "metadata": {},
     "output_type": "execute_result"
    }
   ],
   "source": [
    "fib.cache_info()"
   ]
  },
  {
   "cell_type": "code",
   "execution_count": 89,
   "id": "932f2240-d8e7-4256-a2a4-7a4d8a4a8095",
   "metadata": {},
   "outputs": [],
   "source": [
    "@cached\n",
    "@announce_with_args\n",
    "def fac(n):\n",
    "    print(\"orig call with\", n)\n",
    "    if n <= 2:\n",
    "        return n\n",
    "    return n * fac(n - 1)\n",
    "\n",
    "\n",
    "# \n",
    "def fac(n):\n",
    "    print(\"orig call with\", n)\n",
    "    if n <= 2:\n",
    "        return n\n",
    "    return n * fac(n - 1)\n",
    "\n",
    "\n",
    "fac = announce_with_args(fac)\n",
    "fac = cached(fac)"
   ]
  },
  {
   "cell_type": "code",
   "execution_count": 90,
   "id": "12b11b0e-6849-47ab-aab1-ed4aab9fc4d0",
   "metadata": {},
   "outputs": [
    {
     "data": {
      "text/plain": [
       "<function __main__.hello()>"
      ]
     },
     "execution_count": 90,
     "metadata": {},
     "output_type": "execute_result"
    }
   ],
   "source": [
    "hello"
   ]
  },
  {
   "cell_type": "code",
   "execution_count": 91,
   "id": "be1937db-8f0e-4186-9816-5cd15fc2fda8",
   "metadata": {},
   "outputs": [
    {
     "data": {
      "text/plain": [
       "<function __main__.announce_with_arg.<locals>.inner(n)>"
      ]
     },
     "execution_count": 91,
     "metadata": {},
     "output_type": "execute_result"
    }
   ],
   "source": [
    "say_hi"
   ]
  },
  {
   "cell_type": "code",
   "execution_count": 92,
   "id": "147ed537-f56b-4350-bb0b-01501004ca74",
   "metadata": {},
   "outputs": [
    {
     "name": "stdout",
     "output_type": "stream",
     "text": [
      "call func say_hi with arg Sam\n",
      "call result: Hello, Sam!\n"
     ]
    },
    {
     "data": {
      "text/plain": [
       "'Hello, Sam!'"
      ]
     },
     "execution_count": 92,
     "metadata": {},
     "output_type": "execute_result"
    }
   ],
   "source": [
    "say_hi(\"Sam\")"
   ]
  },
  {
   "cell_type": "code",
   "execution_count": 93,
   "id": "83b0ccee-d2df-407e-b7cb-1e5fd04b95c0",
   "metadata": {},
   "outputs": [],
   "source": [
    "from functools import lru_cache\n",
    "\n",
    "\n",
    "@lru_cache(maxsize=256)\n",
    "def fib(n):\n",
    "    \"\"\"\n",
    "    Finds fib for n\n",
    "    \"\"\"\n",
    "    if n < 2:\n",
    "        return n\n",
    "    return fib(n - 1) + fib(n - 2)"
   ]
  },
  {
   "cell_type": "code",
   "execution_count": 94,
   "id": "219516f0-1dbb-4bff-b0e5-d8d60fbb0ab3",
   "metadata": {},
   "outputs": [
    {
     "data": {
      "text/plain": [
       "CacheInfo(hits=0, misses=0, maxsize=256, currsize=0)"
      ]
     },
     "execution_count": 94,
     "metadata": {},
     "output_type": "execute_result"
    }
   ],
   "source": [
    "fib.cache_info()"
   ]
  },
  {
   "cell_type": "code",
   "execution_count": 95,
   "id": "19e01361-34a5-453f-99ba-6eb3309f3a5d",
   "metadata": {},
   "outputs": [
    {
     "data": {
      "text/plain": [
       "<function functools.lru_cache.<locals>.decorating_function(user_function)>"
      ]
     },
     "execution_count": 95,
     "metadata": {},
     "output_type": "execute_result"
    }
   ],
   "source": [
    "lru_cache(maxsize=256)"
   ]
  },
  {
   "cell_type": "code",
   "execution_count": 96,
   "id": "296851ca-3d62-43bd-b0c4-8146069c8c6a",
   "metadata": {},
   "outputs": [
    {
     "data": {
      "text/plain": [
       "<function functools.lru_cache(maxsize=128, typed=False)>"
      ]
     },
     "execution_count": 96,
     "metadata": {},
     "output_type": "execute_result"
    }
   ],
   "source": [
    "lru_cache"
   ]
  },
  {
   "cell_type": "code",
   "execution_count": 97,
   "id": "014e3140-5b8a-487c-a894-cc9692fd9a05",
   "metadata": {},
   "outputs": [],
   "source": [
    "def example():\n",
    "    # 111\n",
    "    \n",
    "    @announce_with_args\n",
    "    def fac(n):\n",
    "        print(\"orig call with\", n)\n",
    "        if n <= 2:\n",
    "            return n\n",
    "        return n * fac(n - 1)\n",
    "    \n",
    "    \n",
    "    # \n",
    "    def fac(n):\n",
    "        print(\"orig call with\", n)\n",
    "        if n <= 2:\n",
    "            return n\n",
    "        return n * fac(n - 1)\n",
    "    \n",
    "    \n",
    "    fac = announce_with_args(fac)\n",
    "    \n",
    "    \n",
    "    # 222\n",
    "    \n",
    "    @announce_with_args()\n",
    "    def fac(n):\n",
    "        print(\"orig call with\", n)\n",
    "        if n <= 2:\n",
    "            return n\n",
    "        return n * fac(n - 1)\n",
    "    \n",
    "    \n",
    "    # \n",
    "    def fac(n):\n",
    "        print(\"orig call with\", n)\n",
    "        if n <= 2:\n",
    "            return n\n",
    "        return n * fac(n - 1)\n",
    "    \n",
    "    \n",
    "    fac = announce_with_args()(fac)"
   ]
  }
 ],
 "metadata": {
  "kernelspec": {
   "display_name": "Python 3 (ipykernel)",
   "language": "python",
   "name": "python3"
  },
  "language_info": {
   "codemirror_mode": {
    "name": "ipython",
    "version": 3
   },
   "file_extension": ".py",
   "mimetype": "text/x-python",
   "name": "python",
   "nbconvert_exporter": "python",
   "pygments_lexer": "ipython3",
   "version": "3.11.4"
  }
 },
 "nbformat": 4,
 "nbformat_minor": 5
}
