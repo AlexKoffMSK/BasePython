{
 "cells": [
  {
   "cell_type": "code",
   "execution_count": 1,
   "id": "95ba2731-00ff-496e-bc2f-a8531a6e7fcb",
   "metadata": {},
   "outputs": [
    {
     "name": "stdout",
     "output_type": "stream",
     "text": [
      "Hello World\n"
     ]
    }
   ],
   "source": [
    "print(\"Hello World\")"
   ]
  },
  {
   "cell_type": "code",
   "execution_count": 2,
   "id": "94b6fd12-2bc8-4281-b166-69003339d7e9",
   "metadata": {},
   "outputs": [
    {
     "data": {
      "text/plain": [
       "3"
      ]
     },
     "execution_count": 2,
     "metadata": {},
     "output_type": "execute_result"
    }
   ],
   "source": [
    "1 + 2"
   ]
  },
  {
   "cell_type": "code",
   "execution_count": 3,
   "id": "989b4626-7a26-47f6-bc43-36eca8c64cc9",
   "metadata": {},
   "outputs": [
    {
     "name": "stdout",
     "output_type": "stream",
     "text": [
      "spam and eggs\n"
     ]
    }
   ],
   "source": [
    "foobar = \"spam and eggs\"\n",
    "print(foobar)"
   ]
  },
  {
   "cell_type": "code",
   "execution_count": 4,
   "id": "5b9db6dd-b385-4795-830e-63e742a9c326",
   "metadata": {},
   "outputs": [
    {
     "name": "stdout",
     "output_type": "stream",
     "text": [
      "qwerty\n"
     ]
    }
   ],
   "source": [
    "foobar = \"qwerty\"\n",
    "print(foobar)"
   ]
  },
  {
   "cell_type": "code",
   "execution_count": 5,
   "id": "2fa7c28f-f615-4ad5-b5bc-effacec0b54c",
   "metadata": {},
   "outputs": [],
   "source": [
    "def hello(name):\n",
    "    print(\"Hello\", name)"
   ]
  },
  {
   "cell_type": "code",
   "execution_count": 6,
   "id": "f0f3c77d-6df9-4a06-a5e1-87cb6eae0bee",
   "metadata": {},
   "outputs": [
    {
     "name": "stdout",
     "output_type": "stream",
     "text": [
      "Hello Sam\n"
     ]
    }
   ],
   "source": [
    "hello(\"Sam\")"
   ]
  },
  {
   "cell_type": "code",
   "execution_count": 7,
   "id": "d6c026db-16a6-4a2e-ba5c-f35cd63b8868",
   "metadata": {},
   "outputs": [
    {
     "name": "stdout",
     "output_type": "stream",
     "text": [
      "Hello John\n"
     ]
    }
   ],
   "source": [
    "res = hello(\"John\")"
   ]
  },
  {
   "cell_type": "code",
   "execution_count": 8,
   "id": "dba5e4e9-079b-4245-a9db-67d2a59fd0db",
   "metadata": {},
   "outputs": [],
   "source": [
    "res"
   ]
  },
  {
   "cell_type": "code",
   "execution_count": 9,
   "id": "a8103a99-f55d-4ae5-b9cd-d5ca1a8c6f67",
   "metadata": {},
   "outputs": [
    {
     "name": "stdout",
     "output_type": "stream",
     "text": [
      "None\n"
     ]
    }
   ],
   "source": [
    "print(res)"
   ]
  },
  {
   "cell_type": "code",
   "execution_count": 10,
   "id": "8ae0e698-bc96-4012-b6c6-62f50194f9cf",
   "metadata": {},
   "outputs": [],
   "source": [
    "def square(num):\n",
    "    return num * num"
   ]
  },
  {
   "cell_type": "code",
   "execution_count": 11,
   "id": "a3f136c0-7c3b-430b-942a-eee614033f9b",
   "metadata": {},
   "outputs": [
    {
     "data": {
      "text/plain": [
       "16"
      ]
     },
     "execution_count": 11,
     "metadata": {},
     "output_type": "execute_result"
    }
   ],
   "source": [
    "square(4)"
   ]
  },
  {
   "cell_type": "code",
   "execution_count": 12,
   "id": "7ab54d61-020a-4fda-88ea-fb5f376d2eea",
   "metadata": {},
   "outputs": [],
   "source": [
    "four_squared = square(4)"
   ]
  },
  {
   "cell_type": "code",
   "execution_count": 13,
   "id": "37a96fc6-1122-4d66-909a-119cc0520a31",
   "metadata": {},
   "outputs": [
    {
     "data": {
      "text/plain": [
       "16"
      ]
     },
     "execution_count": 13,
     "metadata": {},
     "output_type": "execute_result"
    }
   ],
   "source": [
    "four_squared"
   ]
  },
  {
   "cell_type": "code",
   "execution_count": 14,
   "id": "b073daa1-92f6-4d82-bed7-1f7ccc84a459",
   "metadata": {},
   "outputs": [],
   "source": [
    "sq = square"
   ]
  },
  {
   "cell_type": "code",
   "execution_count": 15,
   "id": "cbf91e5f-cdd1-467c-9012-e774f357ebcd",
   "metadata": {},
   "outputs": [
    {
     "name": "stdout",
     "output_type": "stream",
     "text": [
      "<function square at 0x105d63240>\n"
     ]
    }
   ],
   "source": [
    "print(square)"
   ]
  },
  {
   "cell_type": "code",
   "execution_count": 16,
   "id": "955ba13c-0b6e-4ce4-b849-8c13dcd4c7da",
   "metadata": {},
   "outputs": [
    {
     "name": "stdout",
     "output_type": "stream",
     "text": [
      "<function square at 0x105d63240>\n"
     ]
    }
   ],
   "source": [
    "print(sq)"
   ]
  },
  {
   "cell_type": "code",
   "execution_count": 17,
   "id": "7cebf2e8-ca32-4b30-a10f-ec7a2b2d86b3",
   "metadata": {},
   "outputs": [
    {
     "data": {
      "text/plain": [
       "16"
      ]
     },
     "execution_count": 17,
     "metadata": {},
     "output_type": "execute_result"
    }
   ],
   "source": [
    "sq(4)"
   ]
  },
  {
   "cell_type": "code",
   "execution_count": 18,
   "id": "af615ad7-014b-476e-82ff-68536e41f01c",
   "metadata": {},
   "outputs": [
    {
     "data": {
      "text/plain": [
       "9"
      ]
     },
     "execution_count": 18,
     "metadata": {},
     "output_type": "execute_result"
    }
   ],
   "source": [
    "sq(3)"
   ]
  },
  {
   "cell_type": "code",
   "execution_count": 19,
   "id": "49122876-55d2-40c9-98ed-8ddb17d4959b",
   "metadata": {},
   "outputs": [],
   "source": [
    "def logged_call(func, arg):\n",
    "    print(\"call func\", func, \"w/ arg:\", arg)\n",
    "    res = func(arg)\n",
    "    print(\"call result:\", res)\n",
    "    return res"
   ]
  },
  {
   "cell_type": "code",
   "execution_count": 20,
   "id": "5e496c77-4b3a-4620-9b4a-69ba548b0e41",
   "metadata": {},
   "outputs": [
    {
     "name": "stdout",
     "output_type": "stream",
     "text": [
      "call func <function square at 0x105d63240> w/ arg: 5\n",
      "call result: 25\n"
     ]
    },
    {
     "data": {
      "text/plain": [
       "25"
      ]
     },
     "execution_count": 20,
     "metadata": {},
     "output_type": "execute_result"
    }
   ],
   "source": [
    "logged_call(sq, 5)"
   ]
  },
  {
   "cell_type": "code",
   "execution_count": 21,
   "id": "40800974-df3d-4b02-9101-975cf03be845",
   "metadata": {},
   "outputs": [],
   "source": [
    "def make_squares(*numbers):\n",
    "    return [num * num for num in numbers]"
   ]
  },
  {
   "cell_type": "code",
   "execution_count": 22,
   "id": "018d0a63-6415-4c17-a6f7-1c4094b3e999",
   "metadata": {},
   "outputs": [
    {
     "data": {
      "text/plain": [
       "[1, 4, 9]"
      ]
     },
     "execution_count": 22,
     "metadata": {},
     "output_type": "execute_result"
    }
   ],
   "source": [
    "make_squares(1, 2, 3)"
   ]
  },
  {
   "cell_type": "code",
   "execution_count": 23,
   "id": "df13bf8b-5cc7-4bfd-955a-2b63a2ee2d52",
   "metadata": {},
   "outputs": [
    {
     "data": {
      "text/plain": [
       "[1, 4]"
      ]
     },
     "execution_count": 23,
     "metadata": {},
     "output_type": "execute_result"
    }
   ],
   "source": [
    "make_squares(1, 2)"
   ]
  },
  {
   "cell_type": "code",
   "execution_count": 24,
   "id": "09874dab-9d23-4350-81d4-e7c5297f7c82",
   "metadata": {},
   "outputs": [
    {
     "data": {
      "text/plain": [
       "[4, 9, 16, 25]"
      ]
     },
     "execution_count": 24,
     "metadata": {},
     "output_type": "execute_result"
    }
   ],
   "source": [
    "make_squares(2, 3, 4, 5)"
   ]
  },
  {
   "cell_type": "code",
   "execution_count": 25,
   "id": "23356a46-54a7-4023-9014-056b7d17b991",
   "metadata": {},
   "outputs": [
    {
     "data": {
      "text/plain": [
       "[]"
      ]
     },
     "execution_count": 25,
     "metadata": {},
     "output_type": "execute_result"
    }
   ],
   "source": [
    "make_squares()"
   ]
  },
  {
   "cell_type": "code",
   "execution_count": 26,
   "id": "69f15d26-6288-4b78-90c9-602134872de8",
   "metadata": {},
   "outputs": [
    {
     "name": "stdout",
     "output_type": "stream",
     "text": [
      "call func <function make_squares at 0x105d636a0> w/ arg: 9\n",
      "call result: [81]\n"
     ]
    },
    {
     "data": {
      "text/plain": [
       "[81]"
      ]
     },
     "execution_count": 26,
     "metadata": {},
     "output_type": "execute_result"
    }
   ],
   "source": [
    "logged_call(make_squares, 9)"
   ]
  },
  {
   "cell_type": "code",
   "execution_count": 27,
   "id": "540a3a60-1234-41de-9210-2658aeff5e5d",
   "metadata": {},
   "outputs": [],
   "source": [
    "def show_args(*args):\n",
    "    print(args)"
   ]
  },
  {
   "cell_type": "code",
   "execution_count": 28,
   "id": "7738ea16-7afd-4948-bcc9-e8bbdd3e2e4a",
   "metadata": {},
   "outputs": [
    {
     "name": "stdout",
     "output_type": "stream",
     "text": [
      "()\n",
      "(1,)\n",
      "(1, 2, 3)\n"
     ]
    }
   ],
   "source": [
    "show_args()\n",
    "show_args(1)\n",
    "show_args(1, 2, 3)"
   ]
  },
  {
   "cell_type": "code",
   "execution_count": 29,
   "id": "ab125c9c-225d-4eed-bbc9-efd0a1898694",
   "metadata": {},
   "outputs": [
    {
     "name": "stdout",
     "output_type": "stream",
     "text": [
      "1 2 3\n"
     ]
    }
   ],
   "source": [
    "print(1, 2, 3)"
   ]
  },
  {
   "cell_type": "code",
   "execution_count": 30,
   "id": "99dfab2e-bb33-4b81-9a40-e2bbb6f93919",
   "metadata": {},
   "outputs": [],
   "source": [
    "def show_args(*args):\n",
    "    print(*args)"
   ]
  },
  {
   "cell_type": "code",
   "execution_count": 31,
   "id": "3ce622b8-7465-4cc4-8add-90f5d07745e4",
   "metadata": {},
   "outputs": [
    {
     "name": "stdout",
     "output_type": "stream",
     "text": [
      "1 2 3\n"
     ]
    }
   ],
   "source": [
    "show_args(1, 2, 3)"
   ]
  },
  {
   "cell_type": "code",
   "execution_count": 32,
   "id": "c56d5dfe-8439-4d55-9cb0-4d75b095dd05",
   "metadata": {},
   "outputs": [],
   "source": [
    "def logged_call(func, *args):\n",
    "    print(\"call func\", func, \"w/ args:\", args)\n",
    "    res = func(*args)\n",
    "    print(\"call result:\", res)\n",
    "    return res"
   ]
  },
  {
   "cell_type": "code",
   "execution_count": 33,
   "id": "d8293609-2c7e-4077-b7d8-c264f963e5f1",
   "metadata": {},
   "outputs": [],
   "source": [
    "def random_number():\n",
    "    # я случайно выбрал это число\n",
    "    return 42"
   ]
  },
  {
   "cell_type": "code",
   "execution_count": 34,
   "id": "3de2c0d2-e366-4fbf-a4ad-d460ea53665d",
   "metadata": {},
   "outputs": [
    {
     "data": {
      "text/plain": [
       "42"
      ]
     },
     "execution_count": 34,
     "metadata": {},
     "output_type": "execute_result"
    }
   ],
   "source": [
    "random_number()"
   ]
  },
  {
   "cell_type": "code",
   "execution_count": 35,
   "id": "11a82980-eb7d-4890-9d38-43a6b088dfee",
   "metadata": {},
   "outputs": [
    {
     "name": "stdout",
     "output_type": "stream",
     "text": [
      "call func <function random_number at 0x105d63920> w/ args: ()\n",
      "call result: 42\n"
     ]
    },
    {
     "data": {
      "text/plain": [
       "42"
      ]
     },
     "execution_count": 35,
     "metadata": {},
     "output_type": "execute_result"
    }
   ],
   "source": [
    "logged_call(random_number)"
   ]
  },
  {
   "cell_type": "code",
   "execution_count": 36,
   "id": "0bb02416-2e07-42d3-a2d7-10cdc6a43e80",
   "metadata": {},
   "outputs": [
    {
     "name": "stdout",
     "output_type": "stream",
     "text": [
      "call func <function square at 0x105d63240> w/ args: (7,)\n",
      "call result: 49\n"
     ]
    },
    {
     "data": {
      "text/plain": [
       "49"
      ]
     },
     "execution_count": 36,
     "metadata": {},
     "output_type": "execute_result"
    }
   ],
   "source": [
    "logged_call(sq, 7)"
   ]
  },
  {
   "cell_type": "code",
   "execution_count": 37,
   "id": "88924c58-4f83-445f-a975-3b3dbf633f3b",
   "metadata": {},
   "outputs": [
    {
     "name": "stdout",
     "output_type": "stream",
     "text": [
      "call func <function make_squares at 0x105d636a0> w/ args: (4, 7, 9, 13, 16)\n",
      "call result: [16, 49, 81, 169, 256]\n"
     ]
    },
    {
     "data": {
      "text/plain": [
       "[16, 49, 81, 169, 256]"
      ]
     },
     "execution_count": 37,
     "metadata": {},
     "output_type": "execute_result"
    }
   ],
   "source": [
    "logged_call(make_squares, 4, 7, 9, 13, 16)"
   ]
  },
  {
   "cell_type": "code",
   "execution_count": 38,
   "id": "4921823e-c0fd-4b38-8b16-21ff47fa9555",
   "metadata": {},
   "outputs": [],
   "source": [
    "def show_kwargs(foo, bar, **kwargs):\n",
    "    print(\"foo:\", foo)\n",
    "    print(\"bar:\", bar)\n",
    "    print(\"kwargs:\", kwargs)"
   ]
  },
  {
   "cell_type": "code",
   "execution_count": 39,
   "id": "616bc06b-f6f3-46de-954f-123a3e287946",
   "metadata": {},
   "outputs": [
    {
     "name": "stdout",
     "output_type": "stream",
     "text": [
      "foo: 12\n",
      "bar: 34\n",
      "kwargs: {}\n"
     ]
    }
   ],
   "source": [
    "show_kwargs(12, 34)"
   ]
  },
  {
   "cell_type": "code",
   "execution_count": 40,
   "id": "58d7b70c-8dbc-4c23-b6b9-cfe0a3e4fcc4",
   "metadata": {},
   "outputs": [
    {
     "name": "stdout",
     "output_type": "stream",
     "text": [
      "foo: abc\n",
      "bar: qwe\n",
      "kwargs: {}\n"
     ]
    }
   ],
   "source": [
    "show_kwargs(\"abc\", \"qwe\")"
   ]
  },
  {
   "cell_type": "code",
   "execution_count": 41,
   "id": "140d7ab0-4eeb-44ab-8ee1-01b6bca828c6",
   "metadata": {},
   "outputs": [
    {
     "name": "stdout",
     "output_type": "stream",
     "text": [
      "foo: abc\n",
      "bar: qwe\n",
      "kwargs: {}\n"
     ]
    }
   ],
   "source": [
    "show_kwargs(\"abc\", bar=\"qwe\")"
   ]
  },
  {
   "cell_type": "code",
   "execution_count": 42,
   "id": "fa1a5ae0-4e54-45f9-89c9-45347d02e7b0",
   "metadata": {},
   "outputs": [
    {
     "name": "stdout",
     "output_type": "stream",
     "text": [
      "foo: abc\n",
      "bar: qwe\n",
      "kwargs: {}\n"
     ]
    }
   ],
   "source": [
    "show_kwargs(foo=\"abc\", bar=\"qwe\")"
   ]
  },
  {
   "cell_type": "code",
   "execution_count": 43,
   "id": "5c87e973-90cd-47e2-94aa-2b9aad6039c9",
   "metadata": {},
   "outputs": [
    {
     "name": "stdout",
     "output_type": "stream",
     "text": [
      "foo: abc\n",
      "bar: qwe\n",
      "kwargs: {}\n"
     ]
    }
   ],
   "source": [
    "show_kwargs(bar=\"qwe\", foo=\"abc\")"
   ]
  },
  {
   "cell_type": "code",
   "execution_count": 44,
   "id": "1f469a64-481b-4582-80ad-bfdcd91c608c",
   "metadata": {},
   "outputs": [
    {
     "name": "stdout",
     "output_type": "stream",
     "text": [
      "foo: abc\n",
      "bar: qwe\n",
      "kwargs: {'spam': 'eggs', 'fizz': 'buzz'}\n"
     ]
    }
   ],
   "source": [
    "show_kwargs(\"abc\", bar=\"qwe\", spam=\"eggs\", fizz=\"buzz\")"
   ]
  },
  {
   "cell_type": "code",
   "execution_count": 45,
   "id": "62c58263-776a-40f1-9770-2f93a7ac907f",
   "metadata": {},
   "outputs": [],
   "source": [
    "def logged_call(func, *args, **kwargs):\n",
    "    print(\"call func\", func, \"w/ args:\", args, \"and kwargs:\", kwargs)\n",
    "    res = func(*args, **kwargs)\n",
    "    print(\"call result:\", res)\n",
    "    return res"
   ]
  },
  {
   "cell_type": "code",
   "execution_count": 46,
   "id": "5a4164f5-4cc4-4983-a31d-972eed3a6d2a",
   "metadata": {},
   "outputs": [
    {
     "name": "stdout",
     "output_type": "stream",
     "text": [
      "call func <function make_squares at 0x105d636a0> w/ args: (4, 7, 9, 13, 16) and kwargs: {}\n",
      "call result: [16, 49, 81, 169, 256]\n"
     ]
    },
    {
     "data": {
      "text/plain": [
       "[16, 49, 81, 169, 256]"
      ]
     },
     "execution_count": 46,
     "metadata": {},
     "output_type": "execute_result"
    }
   ],
   "source": [
    "logged_call(make_squares, 4, 7, 9, 13, 16)"
   ]
  },
  {
   "cell_type": "code",
   "execution_count": 47,
   "id": "b11e3517-2c34-4873-b6aa-4c083915168e",
   "metadata": {},
   "outputs": [
    {
     "name": "stdout",
     "output_type": "stream",
     "text": [
      "foo: abc\n",
      "bar: qwe\n",
      "kwargs: {'spam': 'eggs', 'fizz': 'buzz'}\n"
     ]
    }
   ],
   "source": [
    "show_kwargs(\"abc\", bar=\"qwe\", spam=\"eggs\", fizz=\"buzz\")"
   ]
  },
  {
   "cell_type": "code",
   "execution_count": 48,
   "id": "018f0356-6d15-4104-a737-43bf5a241a0c",
   "metadata": {},
   "outputs": [
    {
     "name": "stdout",
     "output_type": "stream",
     "text": [
      "call func <function show_kwargs at 0x105d63ce0> w/ args: ('abc',) and kwargs: {'bar': 'qwe', 'spam': 'eggs', 'fizz': 'buzz'}\n",
      "foo: abc\n",
      "bar: qwe\n",
      "kwargs: {'spam': 'eggs', 'fizz': 'buzz'}\n",
      "call result: None\n"
     ]
    }
   ],
   "source": [
    "logged_call(show_kwargs, \"abc\", bar=\"qwe\", spam=\"eggs\", fizz=\"buzz\")"
   ]
  },
  {
   "cell_type": "code",
   "execution_count": 49,
   "id": "a68e4257-a53a-4c5a-b9ff-2a3c387ecff7",
   "metadata": {},
   "outputs": [],
   "source": [
    "# def make_squares(*numbers):\n",
    "#     print(\"start..\", numbers)\n",
    "#     res = [n * n for n in numbers]\n",
    "#     print(\"end..\", res)\n",
    "#     return"
   ]
  },
  {
   "cell_type": "code",
   "execution_count": 50,
   "id": "2bb7c205-dce9-4991-8ee4-17ed789b9262",
   "metadata": {},
   "outputs": [
    {
     "data": {
      "text/plain": [
       "<function __main__.make_squares(*numbers)>"
      ]
     },
     "execution_count": 50,
     "metadata": {},
     "output_type": "execute_result"
    }
   ],
   "source": [
    "make_squares"
   ]
  },
  {
   "cell_type": "code",
   "execution_count": 51,
   "id": "eca11563-c409-4a77-b095-fbe937ebe1a2",
   "metadata": {},
   "outputs": [
    {
     "name": "stdout",
     "output_type": "stream",
     "text": [
      "<function make_squares at 0x105d636a0>\n"
     ]
    }
   ],
   "source": [
    "print(make_squares)"
   ]
  },
  {
   "cell_type": "code",
   "execution_count": 52,
   "id": "2a869237-8e33-49bf-92d3-0f978caad2d5",
   "metadata": {},
   "outputs": [
    {
     "data": {
      "text/plain": [
       "[9, 25, 49]"
      ]
     },
     "execution_count": 52,
     "metadata": {},
     "output_type": "execute_result"
    }
   ],
   "source": [
    "make_squares(3, 5, 7)"
   ]
  },
  {
   "cell_type": "code",
   "execution_count": 53,
   "id": "8f2ed832-4510-4a58-b8ba-fc43f29a4aac",
   "metadata": {},
   "outputs": [],
   "source": [
    "def make_logged_call(func):\n",
    "    def inner(*args, **kwargs):\n",
    "        return logged_call(func, *args, **kwargs)\n",
    "    return inner"
   ]
  },
  {
   "cell_type": "code",
   "execution_count": 54,
   "id": "ca642a28-d12c-44dc-9fc0-1a87f617ea54",
   "metadata": {},
   "outputs": [],
   "source": [
    "logged_make_squares = make_logged_call(make_squares)"
   ]
  },
  {
   "cell_type": "code",
   "execution_count": 55,
   "id": "af74cf19-805a-4876-9ff1-21abac252d6f",
   "metadata": {},
   "outputs": [
    {
     "name": "stdout",
     "output_type": "stream",
     "text": [
      "<function make_logged_call.<locals>.inner at 0x105d63100>\n"
     ]
    }
   ],
   "source": [
    "print(logged_make_squares)"
   ]
  },
  {
   "cell_type": "code",
   "execution_count": 56,
   "id": "2855ca97-36df-4cc8-8dbd-47d3fec91f7a",
   "metadata": {},
   "outputs": [
    {
     "name": "stdout",
     "output_type": "stream",
     "text": [
      "call func <function make_squares at 0x105d636a0> w/ args: (2, 4, 6, 8) and kwargs: {}\n",
      "call result: [4, 16, 36, 64]\n"
     ]
    },
    {
     "data": {
      "text/plain": [
       "[4, 16, 36, 64]"
      ]
     },
     "execution_count": 56,
     "metadata": {},
     "output_type": "execute_result"
    }
   ],
   "source": [
    "logged_make_squares(2, 4, 6, 8)"
   ]
  },
  {
   "cell_type": "code",
   "execution_count": 57,
   "id": "f6c7f112-0fe6-4084-ba95-1f9c0192c8fe",
   "metadata": {},
   "outputs": [],
   "source": [
    "logged_hello = make_logged_call(hello)"
   ]
  },
  {
   "cell_type": "code",
   "execution_count": 58,
   "id": "2e5216b9-1a55-4d48-a44b-927074ab77f6",
   "metadata": {},
   "outputs": [
    {
     "name": "stdout",
     "output_type": "stream",
     "text": [
      "<function make_logged_call.<locals>.inner at 0x105dd0040>\n"
     ]
    }
   ],
   "source": [
    "print(logged_hello)"
   ]
  },
  {
   "cell_type": "code",
   "execution_count": 59,
   "id": "1778c128-d94f-4da1-8374-d76654b1f335",
   "metadata": {},
   "outputs": [
    {
     "name": "stdout",
     "output_type": "stream",
     "text": [
      "call func <function hello at 0x105d62fc0> w/ args: ('World',) and kwargs: {}\n",
      "Hello World\n",
      "call result: None\n"
     ]
    }
   ],
   "source": [
    "logged_hello(\"World\")"
   ]
  },
  {
   "cell_type": "code",
   "execution_count": 60,
   "id": "ba8b8893-f4ef-4cd2-ace9-b432fbf696ca",
   "metadata": {},
   "outputs": [
    {
     "name": "stdout",
     "output_type": "stream",
     "text": [
      "call func <function hello at 0x105d62fc0> w/ args: () and kwargs: {'name': 'OTUS'}\n",
      "Hello OTUS\n",
      "call result: None\n"
     ]
    }
   ],
   "source": [
    "logged_hello(name=\"OTUS\")"
   ]
  },
  {
   "cell_type": "code",
   "execution_count": 61,
   "id": "fcab9d2f-fb77-4ab6-898c-331bd07591a7",
   "metadata": {},
   "outputs": [],
   "source": [
    "@make_logged_call\n",
    "def cube(num):\n",
    "    return num ** 3"
   ]
  },
  {
   "cell_type": "code",
   "execution_count": 62,
   "id": "556d68ac-e033-4bb5-9fed-2545a8aef86c",
   "metadata": {},
   "outputs": [
    {
     "name": "stdout",
     "output_type": "stream",
     "text": [
      "call func <function cube at 0x105dd0360> w/ args: (4,) and kwargs: {}\n",
      "call result: 64\n"
     ]
    },
    {
     "data": {
      "text/plain": [
       "64"
      ]
     },
     "execution_count": 62,
     "metadata": {},
     "output_type": "execute_result"
    }
   ],
   "source": [
    "cube(4)"
   ]
  },
  {
   "cell_type": "code",
   "execution_count": 63,
   "id": "d269ee82-b3fb-44f4-933b-9ce4ac5a8c9a",
   "metadata": {},
   "outputs": [
    {
     "name": "stdout",
     "output_type": "stream",
     "text": [
      "<function make_logged_call.<locals>.inner at 0x105dd0220>\n"
     ]
    }
   ],
   "source": [
    "print(cube)"
   ]
  },
  {
   "cell_type": "code",
   "execution_count": 64,
   "id": "809adddf-4777-44df-8add-bb6d1862e031",
   "metadata": {},
   "outputs": [
    {
     "data": {
      "text/plain": [
       "<function __main__.make_logged_call.<locals>.inner(*args, **kwargs)>"
      ]
     },
     "execution_count": 64,
     "metadata": {},
     "output_type": "execute_result"
    }
   ],
   "source": [
    "cube"
   ]
  },
  {
   "cell_type": "code",
   "execution_count": 65,
   "id": "fbbced44-2922-4dc1-b0e1-6872a788c36d",
   "metadata": {},
   "outputs": [
    {
     "name": "stdout",
     "output_type": "stream",
     "text": [
      "call func <function cube at 0x105dd0360> w/ args: () and kwargs: {'num': 5}\n",
      "call result: 125\n"
     ]
    },
    {
     "data": {
      "text/plain": [
       "125"
      ]
     },
     "execution_count": 65,
     "metadata": {},
     "output_type": "execute_result"
    }
   ],
   "source": [
    "cube(num=5)"
   ]
  },
  {
   "cell_type": "code",
   "execution_count": 66,
   "id": "bd4844c8-8f8c-43ef-9bed-79a804ff0c1a",
   "metadata": {},
   "outputs": [],
   "source": [
    "handlers = []\n",
    "\n",
    "\n",
    "def register_handler(func):\n",
    "    handlers.append(func)\n",
    "    return func"
   ]
  },
  {
   "cell_type": "code",
   "execution_count": 67,
   "id": "1c33cfac-71f7-44ae-9fca-da7b2ef26b31",
   "metadata": {},
   "outputs": [
    {
     "data": {
      "text/plain": [
       "[]"
      ]
     },
     "execution_count": 67,
     "metadata": {},
     "output_type": "execute_result"
    }
   ],
   "source": [
    "handlers"
   ]
  },
  {
   "cell_type": "code",
   "execution_count": 68,
   "id": "51f9afae-92fb-4a9b-8733-13875b8c37d8",
   "metadata": {},
   "outputs": [],
   "source": [
    "def foobar():\n",
    "    print(\"ok\")"
   ]
  },
  {
   "cell_type": "code",
   "execution_count": 69,
   "id": "9db0960c-433e-4583-8fd5-e8b6a785cdaf",
   "metadata": {},
   "outputs": [
    {
     "name": "stdout",
     "output_type": "stream",
     "text": [
      "ok\n"
     ]
    }
   ],
   "source": [
    "foobar()"
   ]
  },
  {
   "cell_type": "code",
   "execution_count": 70,
   "id": "c8e30a01-0825-455b-9be4-207bf7cf7da0",
   "metadata": {},
   "outputs": [],
   "source": [
    "@register_handler\n",
    "def foo():\n",
    "    print(\"ok foo\")"
   ]
  },
  {
   "cell_type": "code",
   "execution_count": 71,
   "id": "9761fc1c-64c0-4e5c-a89b-596260561df6",
   "metadata": {},
   "outputs": [
    {
     "name": "stdout",
     "output_type": "stream",
     "text": [
      "<function foo at 0x105dd04a0>\n"
     ]
    }
   ],
   "source": [
    "print(foo)"
   ]
  },
  {
   "cell_type": "code",
   "execution_count": 72,
   "id": "11afe4ed-0196-4ddf-92ed-945662bc75f4",
   "metadata": {},
   "outputs": [
    {
     "name": "stdout",
     "output_type": "stream",
     "text": [
      "ok foo\n"
     ]
    }
   ],
   "source": [
    "foo()"
   ]
  },
  {
   "cell_type": "code",
   "execution_count": 73,
   "id": "d34c57c5-a078-4a31-b90a-9462c6de0b3c",
   "metadata": {},
   "outputs": [
    {
     "data": {
      "text/plain": [
       "[<function __main__.foo()>]"
      ]
     },
     "execution_count": 73,
     "metadata": {},
     "output_type": "execute_result"
    }
   ],
   "source": [
    "handlers"
   ]
  },
  {
   "cell_type": "code",
   "execution_count": 74,
   "id": "ae250517-9643-4b65-ad65-90d28d096c30",
   "metadata": {},
   "outputs": [
    {
     "name": "stdout",
     "output_type": "stream",
     "text": [
      "call func <function foo at 0x105dd04a0>\n",
      "ok foo\n"
     ]
    }
   ],
   "source": [
    "for func in handlers:\n",
    "    print(\"call func\", func)\n",
    "    func()"
   ]
  },
  {
   "cell_type": "code",
   "execution_count": 75,
   "id": "9067b297-c2fc-4653-a6f4-135f3306e2a3",
   "metadata": {},
   "outputs": [],
   "source": [
    "from functools import wraps"
   ]
  },
  {
   "cell_type": "code",
   "execution_count": 76,
   "id": "36c881f2-cd39-4730-991e-7ccf69cc79a4",
   "metadata": {},
   "outputs": [],
   "source": [
    "def logged_call_dec(func):\n",
    "    @wraps(func)\n",
    "    def wrapper(*a, **kw):\n",
    "        print(\"call func\", func, \"args:\", a, \"kw:\", kw)\n",
    "        res = func(*a, **kw)\n",
    "        print(\"result:\", res)\n",
    "        return res\n",
    "    return wrapper"
   ]
  },
  {
   "cell_type": "code",
   "execution_count": 77,
   "id": "91b8a668-5449-4780-8aa4-51fc8e298193",
   "metadata": {},
   "outputs": [],
   "source": [
    "@logged_call_dec\n",
    "def is_even(num):\n",
    "    return num % 2 == 0"
   ]
  },
  {
   "cell_type": "code",
   "execution_count": 78,
   "id": "89df7beb-2b84-4104-b151-e763a9744b15",
   "metadata": {},
   "outputs": [
    {
     "data": {
      "text/plain": [
       "<function __main__.is_even(num)>"
      ]
     },
     "execution_count": 78,
     "metadata": {},
     "output_type": "execute_result"
    }
   ],
   "source": [
    "is_even"
   ]
  },
  {
   "cell_type": "code",
   "execution_count": 79,
   "id": "d7e214c8-f01a-4aae-8a3c-2cdd2939f99d",
   "metadata": {},
   "outputs": [
    {
     "name": "stdout",
     "output_type": "stream",
     "text": [
      "<function is_even at 0x105dd0540>\n"
     ]
    }
   ],
   "source": [
    "print(is_even)"
   ]
  },
  {
   "cell_type": "code",
   "execution_count": 80,
   "id": "1bd03972-c6f8-4645-ac1e-0c04a3cde863",
   "metadata": {},
   "outputs": [
    {
     "name": "stdout",
     "output_type": "stream",
     "text": [
      "call func <function is_even at 0x105dd0180> args: (42,) kw: {}\n",
      "result: True\n"
     ]
    },
    {
     "data": {
      "text/plain": [
       "True"
      ]
     },
     "execution_count": 80,
     "metadata": {},
     "output_type": "execute_result"
    }
   ],
   "source": [
    "is_even(42)"
   ]
  },
  {
   "cell_type": "code",
   "execution_count": 81,
   "id": "f0e7ea33-377b-48e9-8d82-f1a6d2b6aed7",
   "metadata": {},
   "outputs": [
    {
     "name": "stdout",
     "output_type": "stream",
     "text": [
      "call func <function is_even at 0x105dd0180> args: () kw: {'num': 7}\n",
      "result: False\n"
     ]
    },
    {
     "data": {
      "text/plain": [
       "False"
      ]
     },
     "execution_count": 81,
     "metadata": {},
     "output_type": "execute_result"
    }
   ],
   "source": [
    "is_even(num=7)"
   ]
  },
  {
   "cell_type": "code",
   "execution_count": 82,
   "id": "b356ad22-33cf-4b3b-b17c-318ac8fa3b2a",
   "metadata": {},
   "outputs": [],
   "source": [
    "@logged_call_dec\n",
    "def is_odd(num):\n",
    "    \"\"\"\n",
    "    Check if number is odd\n",
    "    \"\"\"\n",
    "    return num % 2 != 0"
   ]
  },
  {
   "cell_type": "code",
   "execution_count": 83,
   "id": "cf2f8006-4879-47a2-b48e-33b70a523092",
   "metadata": {},
   "outputs": [
    {
     "name": "stdout",
     "output_type": "stream",
     "text": [
      "<function is_odd at 0x105dd0a40>\n"
     ]
    }
   ],
   "source": [
    "print(is_odd)"
   ]
  },
  {
   "cell_type": "code",
   "execution_count": 84,
   "id": "b2fe7007-4de2-400f-81d0-85b82d77a852",
   "metadata": {},
   "outputs": [
    {
     "data": {
      "text/plain": [
       "<function __main__.is_odd(num)>"
      ]
     },
     "execution_count": 84,
     "metadata": {},
     "output_type": "execute_result"
    }
   ],
   "source": [
    "is_odd"
   ]
  },
  {
   "cell_type": "code",
   "execution_count": 85,
   "id": "42713574-a371-488c-9e4a-74b7cae805f2",
   "metadata": {},
   "outputs": [
    {
     "name": "stdout",
     "output_type": "stream",
     "text": [
      "call func <function is_odd at 0x105dd0680> args: (7,) kw: {}\n",
      "result: True\n"
     ]
    },
    {
     "data": {
      "text/plain": [
       "True"
      ]
     },
     "execution_count": 85,
     "metadata": {},
     "output_type": "execute_result"
    }
   ],
   "source": [
    "is_odd(7)"
   ]
  },
  {
   "cell_type": "code",
   "execution_count": 86,
   "id": "75bfa214-fd52-4144-a8cb-a45529f687dd",
   "metadata": {},
   "outputs": [
    {
     "name": "stdout",
     "output_type": "stream",
     "text": [
      "call func <function is_odd at 0x105dd0680> args: () kw: {'num': 10}\n",
      "result: False\n"
     ]
    },
    {
     "data": {
      "text/plain": [
       "False"
      ]
     },
     "execution_count": 86,
     "metadata": {},
     "output_type": "execute_result"
    }
   ],
   "source": [
    "is_odd(num=10)"
   ]
  },
  {
   "cell_type": "code",
   "execution_count": 87,
   "id": "57758b19-1843-4ba9-8557-09263f30ff58",
   "metadata": {},
   "outputs": [
    {
     "name": "stdout",
     "output_type": "stream",
     "text": [
      "Help on function is_odd in module __main__:\n",
      "\n",
      "is_odd(num)\n",
      "    Check if number is odd\n",
      "\n"
     ]
    }
   ],
   "source": [
    "help(is_odd)"
   ]
  },
  {
   "cell_type": "code",
   "execution_count": 88,
   "id": "83c1ae5c-0122-4998-9b7f-19ff14fa5ddf",
   "metadata": {},
   "outputs": [
    {
     "name": "stdout",
     "output_type": "stream",
     "text": [
      "Help on function inner in module __main__:\n",
      "\n",
      "inner(*args, **kwargs)\n",
      "\n"
     ]
    }
   ],
   "source": [
    "help(cube)"
   ]
  },
  {
   "cell_type": "code",
   "execution_count": 89,
   "id": "68878291-0886-40fa-b226-2e80896f8cf6",
   "metadata": {},
   "outputs": [
    {
     "data": {
      "text/plain": [
       "'\\n    Check if number is odd\\n    '"
      ]
     },
     "execution_count": 89,
     "metadata": {},
     "output_type": "execute_result"
    }
   ],
   "source": [
    "is_odd.__doc__"
   ]
  },
  {
   "cell_type": "code",
   "execution_count": 90,
   "id": "c6b4488b-7539-4f00-82f8-4a66563e2eb4",
   "metadata": {},
   "outputs": [
    {
     "name": "stdout",
     "output_type": "stream",
     "text": [
      "\n",
      "    Check if number is odd\n",
      "    \n"
     ]
    }
   ],
   "source": [
    "print(is_odd.__doc__)"
   ]
  },
  {
   "cell_type": "code",
   "execution_count": 91,
   "id": "8a69af17-7eb0-4b0b-a477-25d0c8c86f71",
   "metadata": {},
   "outputs": [],
   "source": [
    "def fac(n):\n",
    "    if n < 2:\n",
    "        return n\n",
    "    return n * fac(n - 1)"
   ]
  },
  {
   "cell_type": "code",
   "execution_count": 92,
   "id": "797f95a4-3461-4a3d-8a6c-a66eb66e8a41",
   "metadata": {},
   "outputs": [
    {
     "data": {
      "text/plain": [
       "6"
      ]
     },
     "execution_count": 92,
     "metadata": {},
     "output_type": "execute_result"
    }
   ],
   "source": [
    "fac(3)"
   ]
  },
  {
   "cell_type": "code",
   "execution_count": 93,
   "id": "162e4431-bc63-434f-9274-203a75300652",
   "metadata": {},
   "outputs": [
    {
     "data": {
      "text/plain": [
       "24"
      ]
     },
     "execution_count": 93,
     "metadata": {},
     "output_type": "execute_result"
    }
   ],
   "source": [
    "fac(4)"
   ]
  },
  {
   "cell_type": "code",
   "execution_count": 94,
   "id": "0ff4a063-3292-4e0a-a292-6af28c366615",
   "metadata": {},
   "outputs": [],
   "source": [
    "def trace(func):\n",
    "    func._level = 0\n",
    "    @wraps(func)\n",
    "    def wrapper(*a, **kw):\n",
    "        func._level += 1\n",
    "        print(\"-\" * func._level, \"enter func\", func, \"w/ a and kw\", a, kw)\n",
    "        res = func(*a, **kw)\n",
    "        func._level -= 1\n",
    "        return res\n",
    "    return wrapper"
   ]
  },
  {
   "cell_type": "code",
   "execution_count": 95,
   "id": "c048f4c2-5977-4381-9d0b-30be32bc533e",
   "metadata": {},
   "outputs": [],
   "source": [
    "@trace\n",
    "def fac(n):\n",
    "    if n < 2:\n",
    "        return n\n",
    "    return n * fac(n - 1)"
   ]
  },
  {
   "cell_type": "code",
   "execution_count": 96,
   "id": "812792d8-f1e4-4fc5-8e77-b38ea0745f7d",
   "metadata": {},
   "outputs": [
    {
     "name": "stdout",
     "output_type": "stream",
     "text": [
      "- enter func <function fac at 0x105dd0860> w/ a and kw (2,) {}\n",
      "-- enter func <function fac at 0x105dd0860> w/ a and kw (1,) {}\n"
     ]
    },
    {
     "data": {
      "text/plain": [
       "2"
      ]
     },
     "execution_count": 96,
     "metadata": {},
     "output_type": "execute_result"
    }
   ],
   "source": [
    "fac(2)"
   ]
  },
  {
   "cell_type": "code",
   "execution_count": 97,
   "id": "76206359-e87e-4e0b-ba04-1c0c0dd5c4d4",
   "metadata": {},
   "outputs": [
    {
     "name": "stdout",
     "output_type": "stream",
     "text": [
      "- enter func <function fac at 0x105dd0860> w/ a and kw (4,) {}\n",
      "-- enter func <function fac at 0x105dd0860> w/ a and kw (3,) {}\n",
      "--- enter func <function fac at 0x105dd0860> w/ a and kw (2,) {}\n",
      "---- enter func <function fac at 0x105dd0860> w/ a and kw (1,) {}\n"
     ]
    },
    {
     "data": {
      "text/plain": [
       "24"
      ]
     },
     "execution_count": 97,
     "metadata": {},
     "output_type": "execute_result"
    }
   ],
   "source": [
    "fac(4)"
   ]
  },
  {
   "cell_type": "code",
   "execution_count": 99,
   "id": "238b1430-a11a-4641-b61f-69133f09a54a",
   "metadata": {},
   "outputs": [],
   "source": [
    "def trace(prefix=\"-\"):\n",
    "    def decorator(func):\n",
    "        func._level = 0\n",
    "        @wraps(func)\n",
    "        def wrapper(*a, **kw):\n",
    "            func._level += 1\n",
    "            print(prefix * func._level, \"enter func\", func, \"w/ a and kw\", a, kw)\n",
    "            res = func(*a, **kw)\n",
    "            print(prefix * func._level, \"leave func\", func, \"w/ res:\", res)\n",
    "            func._level -= 1\n",
    "            return res\n",
    "        return wrapper\n",
    "    return decorator"
   ]
  },
  {
   "cell_type": "code",
   "execution_count": 100,
   "id": "6485aa79-bf85-4650-ae87-67b0921344b1",
   "metadata": {},
   "outputs": [],
   "source": [
    "@trace(\"+\")\n",
    "def fac(n):\n",
    "    if n < 2:\n",
    "        return n\n",
    "    return n * fac(n - 1)"
   ]
  },
  {
   "cell_type": "code",
   "execution_count": 101,
   "id": "08590312-1728-49ec-a8c2-6f87a5818c81",
   "metadata": {},
   "outputs": [
    {
     "name": "stdout",
     "output_type": "stream",
     "text": [
      "+ enter func <function fac at 0x105dd0cc0> w/ a and kw (3,) {}\n",
      "++ enter func <function fac at 0x105dd0cc0> w/ a and kw (2,) {}\n",
      "+++ enter func <function fac at 0x105dd0cc0> w/ a and kw (1,) {}\n",
      "+++ leave func <function fac at 0x105dd0cc0> w/ res: 1\n",
      "++ leave func <function fac at 0x105dd0cc0> w/ res: 2\n",
      "+ leave func <function fac at 0x105dd0cc0> w/ res: 6\n"
     ]
    },
    {
     "data": {
      "text/plain": [
       "6"
      ]
     },
     "execution_count": 101,
     "metadata": {},
     "output_type": "execute_result"
    }
   ],
   "source": [
    "fac(3)"
   ]
  },
  {
   "cell_type": "code",
   "execution_count": 102,
   "id": "e10962fc-46f1-4530-b05d-b824d92dce86",
   "metadata": {},
   "outputs": [],
   "source": [
    "@trace(prefix=1)\n",
    "def fib(n):\n",
    "    if n < 2:\n",
    "        return n\n",
    "    return fib(n - 1) + fib(n - 2)"
   ]
  },
  {
   "cell_type": "code",
   "execution_count": 103,
   "id": "eac2129d-f12e-4da2-a1d6-af302fc619ff",
   "metadata": {},
   "outputs": [
    {
     "name": "stdout",
     "output_type": "stream",
     "text": [
      "1 enter func <function fib at 0x105dd0c20> w/ a and kw (5,) {}\n",
      "2 enter func <function fib at 0x105dd0c20> w/ a and kw (4,) {}\n",
      "3 enter func <function fib at 0x105dd0c20> w/ a and kw (3,) {}\n",
      "4 enter func <function fib at 0x105dd0c20> w/ a and kw (2,) {}\n",
      "5 enter func <function fib at 0x105dd0c20> w/ a and kw (1,) {}\n",
      "5 leave func <function fib at 0x105dd0c20> w/ res: 1\n",
      "5 enter func <function fib at 0x105dd0c20> w/ a and kw (0,) {}\n",
      "5 leave func <function fib at 0x105dd0c20> w/ res: 0\n",
      "4 leave func <function fib at 0x105dd0c20> w/ res: 1\n",
      "4 enter func <function fib at 0x105dd0c20> w/ a and kw (1,) {}\n",
      "4 leave func <function fib at 0x105dd0c20> w/ res: 1\n",
      "3 leave func <function fib at 0x105dd0c20> w/ res: 2\n",
      "3 enter func <function fib at 0x105dd0c20> w/ a and kw (2,) {}\n",
      "4 enter func <function fib at 0x105dd0c20> w/ a and kw (1,) {}\n",
      "4 leave func <function fib at 0x105dd0c20> w/ res: 1\n",
      "4 enter func <function fib at 0x105dd0c20> w/ a and kw (0,) {}\n",
      "4 leave func <function fib at 0x105dd0c20> w/ res: 0\n",
      "3 leave func <function fib at 0x105dd0c20> w/ res: 1\n",
      "2 leave func <function fib at 0x105dd0c20> w/ res: 3\n",
      "2 enter func <function fib at 0x105dd0c20> w/ a and kw (3,) {}\n",
      "3 enter func <function fib at 0x105dd0c20> w/ a and kw (2,) {}\n",
      "4 enter func <function fib at 0x105dd0c20> w/ a and kw (1,) {}\n",
      "4 leave func <function fib at 0x105dd0c20> w/ res: 1\n",
      "4 enter func <function fib at 0x105dd0c20> w/ a and kw (0,) {}\n",
      "4 leave func <function fib at 0x105dd0c20> w/ res: 0\n",
      "3 leave func <function fib at 0x105dd0c20> w/ res: 1\n",
      "3 enter func <function fib at 0x105dd0c20> w/ a and kw (1,) {}\n",
      "3 leave func <function fib at 0x105dd0c20> w/ res: 1\n",
      "2 leave func <function fib at 0x105dd0c20> w/ res: 2\n",
      "1 leave func <function fib at 0x105dd0c20> w/ res: 5\n"
     ]
    },
    {
     "data": {
      "text/plain": [
       "5"
      ]
     },
     "execution_count": 103,
     "metadata": {},
     "output_type": "execute_result"
    }
   ],
   "source": [
    "fib(5)"
   ]
  },
  {
   "cell_type": "code",
   "execution_count": 104,
   "id": "086b52e8-52d1-4503-b67e-f2b3467e6f52",
   "metadata": {},
   "outputs": [],
   "source": [
    "@trace(\"=\")\n",
    "def fac(n):\n",
    "    if n < 2:\n",
    "        return n\n",
    "    return n * fac(n - 1)"
   ]
  },
  {
   "cell_type": "code",
   "execution_count": 105,
   "id": "9e0fccdd-7bb3-42a1-9ab6-369cc7a1e37e",
   "metadata": {},
   "outputs": [
    {
     "name": "stdout",
     "output_type": "stream",
     "text": [
      "= enter func <function fac at 0x105dd1120> w/ a and kw (5,) {}\n",
      "== enter func <function fac at 0x105dd1120> w/ a and kw (4,) {}\n",
      "=== enter func <function fac at 0x105dd1120> w/ a and kw (3,) {}\n",
      "==== enter func <function fac at 0x105dd1120> w/ a and kw (2,) {}\n",
      "===== enter func <function fac at 0x105dd1120> w/ a and kw (1,) {}\n",
      "===== leave func <function fac at 0x105dd1120> w/ res: 1\n",
      "==== leave func <function fac at 0x105dd1120> w/ res: 2\n",
      "=== leave func <function fac at 0x105dd1120> w/ res: 6\n",
      "== leave func <function fac at 0x105dd1120> w/ res: 24\n",
      "= leave func <function fac at 0x105dd1120> w/ res: 120\n"
     ]
    },
    {
     "data": {
      "text/plain": [
       "120"
      ]
     },
     "execution_count": 105,
     "metadata": {},
     "output_type": "execute_result"
    }
   ],
   "source": [
    "fac(5)"
   ]
  },
  {
   "cell_type": "code",
   "execution_count": 106,
   "id": "245d0e63-ea45-4041-a08d-eb9bf392e9e5",
   "metadata": {},
   "outputs": [],
   "source": [
    "my_var = \"@\""
   ]
  },
  {
   "cell_type": "code",
   "execution_count": 107,
   "id": "94b50a67-b044-4422-8e20-df62f0da511d",
   "metadata": {},
   "outputs": [
    {
     "name": "stdout",
     "output_type": "stream",
     "text": [
      "@\n"
     ]
    }
   ],
   "source": [
    "print(my_var)"
   ]
  },
  {
   "cell_type": "code",
   "execution_count": 108,
   "id": "229aade9-b30b-43d7-8742-fae94d555335",
   "metadata": {},
   "outputs": [],
   "source": [
    "@trace(my_var)\n",
    "def fac(n):\n",
    "    if n < 2:\n",
    "        return n\n",
    "    return n * fac(n - 1)"
   ]
  },
  {
   "cell_type": "code",
   "execution_count": 109,
   "id": "26129b06-82f5-4b9e-972a-d336b768861a",
   "metadata": {},
   "outputs": [
    {
     "name": "stdout",
     "output_type": "stream",
     "text": [
      "@ enter func <function fac at 0x105dd07c0> w/ a and kw (4,) {}\n",
      "@@ enter func <function fac at 0x105dd07c0> w/ a and kw (3,) {}\n",
      "@@@ enter func <function fac at 0x105dd07c0> w/ a and kw (2,) {}\n",
      "@@@@ enter func <function fac at 0x105dd07c0> w/ a and kw (1,) {}\n",
      "@@@@ leave func <function fac at 0x105dd07c0> w/ res: 1\n",
      "@@@ leave func <function fac at 0x105dd07c0> w/ res: 2\n",
      "@@ leave func <function fac at 0x105dd07c0> w/ res: 6\n",
      "@ leave func <function fac at 0x105dd07c0> w/ res: 24\n"
     ]
    },
    {
     "data": {
      "text/plain": [
       "24"
      ]
     },
     "execution_count": 109,
     "metadata": {},
     "output_type": "execute_result"
    }
   ],
   "source": [
    "fac(4)"
   ]
  },
  {
   "cell_type": "code",
   "execution_count": null,
   "id": "a4ce8a81-ddcc-469f-b5d6-961aeb2d042e",
   "metadata": {},
   "outputs": [],
   "source": []
  }
 ],
 "metadata": {
  "kernelspec": {
   "display_name": "Python 3 (ipykernel)",
   "language": "python",
   "name": "python3"
  },
  "language_info": {
   "codemirror_mode": {
    "name": "ipython",
    "version": 3
   },
   "file_extension": ".py",
   "mimetype": "text/x-python",
   "name": "python",
   "nbconvert_exporter": "python",
   "pygments_lexer": "ipython3",
   "version": "3.11.4"
  }
 },
 "nbformat": 4,
 "nbformat_minor": 5
}
