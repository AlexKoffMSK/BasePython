{
 "cells": [
  {
   "cell_type": "code",
   "execution_count": 1,
   "id": "fc1111e2-b9eb-4254-8988-facb60ffa50d",
   "metadata": {},
   "outputs": [
    {
     "name": "stdout",
     "output_type": "stream",
     "text": [
      "hello world\n"
     ]
    }
   ],
   "source": [
    "print(\"hello world\")"
   ]
  },
  {
   "cell_type": "code",
   "execution_count": 2,
   "id": "c7774798-e1bd-43bb-81bd-36e2ac66d324",
   "metadata": {},
   "outputs": [],
   "source": [
    "def hello():\n",
    "    print('hello')"
   ]
  },
  {
   "cell_type": "code",
   "execution_count": 3,
   "id": "723f4787-c6e9-4f35-ac33-e203136dbf12",
   "metadata": {},
   "outputs": [
    {
     "name": "stdout",
     "output_type": "stream",
     "text": [
      "hello\n"
     ]
    }
   ],
   "source": [
    "hello()"
   ]
  },
  {
   "cell_type": "code",
   "execution_count": 4,
   "id": "f68bfe94-3c86-463d-a266-39285e13b54a",
   "metadata": {},
   "outputs": [],
   "source": [
    "def hello():\n",
    "    print('hello world')"
   ]
  },
  {
   "cell_type": "code",
   "execution_count": 5,
   "id": "1220cd16-cd36-4d41-b7fa-950309f581bf",
   "metadata": {},
   "outputs": [
    {
     "name": "stdout",
     "output_type": "stream",
     "text": [
      "hello world\n"
     ]
    }
   ],
   "source": [
    "hello()"
   ]
  },
  {
   "cell_type": "code",
   "execution_count": 6,
   "id": "fbd54b12-28b1-47cb-bf7a-15109d8536fc",
   "metadata": {},
   "outputs": [],
   "source": [
    "def announce(func):\n",
    "    print(\"run func\", func.__name__)\n",
    "    func()\n",
    "    print(\"done func\", func)"
   ]
  },
  {
   "cell_type": "code",
   "execution_count": 7,
   "id": "c8776e00-274d-410b-82c5-90580a951f64",
   "metadata": {},
   "outputs": [
    {
     "name": "stdout",
     "output_type": "stream",
     "text": [
      "run func hello\n",
      "hello world\n",
      "done func <function hello at 0x103d436a0>\n"
     ]
    }
   ],
   "source": [
    "announce(hello)"
   ]
  },
  {
   "cell_type": "code",
   "execution_count": 8,
   "id": "ede1390c-c8a4-4f2c-b7b3-db5ac65bf34b",
   "metadata": {},
   "outputs": [],
   "source": [
    "def create_announced(func):\n",
    "\n",
    "    def inner_func():\n",
    "        print(\"run func\", func.__name__)\n",
    "        func()\n",
    "        print(\"done func\", func)\n",
    "\n",
    "    return inner_func"
   ]
  },
  {
   "cell_type": "code",
   "execution_count": 9,
   "id": "6ad19dc1-1c6c-4b74-81c6-06ebdc3ea346",
   "metadata": {},
   "outputs": [
    {
     "data": {
      "text/plain": [
       "<function __main__.create_announced.<locals>.inner_func()>"
      ]
     },
     "execution_count": 9,
     "metadata": {},
     "output_type": "execute_result"
    }
   ],
   "source": [
    "create_announced(hello)"
   ]
  },
  {
   "cell_type": "code",
   "execution_count": 10,
   "id": "402e8b4d-7ff8-44ad-92e9-752788908df1",
   "metadata": {},
   "outputs": [
    {
     "name": "stdout",
     "output_type": "stream",
     "text": [
      "run func hello\n",
      "hello world\n",
      "done func <function hello at 0x103d436a0>\n"
     ]
    }
   ],
   "source": [
    "create_announced(hello)()"
   ]
  },
  {
   "cell_type": "code",
   "execution_count": 11,
   "id": "4f191631-6602-4504-8d4f-a8a270b21c5e",
   "metadata": {},
   "outputs": [],
   "source": [
    "hello_announced = create_announced(hello)"
   ]
  },
  {
   "cell_type": "code",
   "execution_count": 12,
   "id": "5971f032-e29e-4f1c-8b49-1d201ae4dd71",
   "metadata": {},
   "outputs": [
    {
     "name": "stdout",
     "output_type": "stream",
     "text": [
      "run func hello\n",
      "hello world\n",
      "done func <function hello at 0x103d436a0>\n"
     ]
    }
   ],
   "source": [
    "hello_announced()"
   ]
  },
  {
   "cell_type": "code",
   "execution_count": 13,
   "id": "29d3b1fc-83ff-4491-8f39-fc573ef449ab",
   "metadata": {},
   "outputs": [
    {
     "data": {
      "text/plain": [
       "<function __main__.create_announced.<locals>.inner_func()>"
      ]
     },
     "execution_count": 13,
     "metadata": {},
     "output_type": "execute_result"
    }
   ],
   "source": [
    "hello_announced"
   ]
  },
  {
   "cell_type": "code",
   "execution_count": 15,
   "id": "5408b688-9d33-47a4-9bb1-0a18cff31df9",
   "metadata": {},
   "outputs": [
    {
     "name": "stdout",
     "output_type": "stream",
     "text": [
      "<function create_announced.<locals>.inner_func at 0x103d432e0>\n"
     ]
    }
   ],
   "source": [
    "print(hello_announced)"
   ]
  },
  {
   "cell_type": "code",
   "execution_count": 17,
   "id": "3bacd689-6cf6-4de6-83e8-b0f8b150702b",
   "metadata": {},
   "outputs": [
    {
     "name": "stdout",
     "output_type": "stream",
     "text": [
      "hi!\n"
     ]
    }
   ],
   "source": [
    "def greet():\n",
    "    print(\"hi!\")\n",
    "\n",
    "greet()"
   ]
  },
  {
   "cell_type": "code",
   "execution_count": 18,
   "id": "3e40e30d-360c-4d9e-ae06-62e8098bd3ee",
   "metadata": {},
   "outputs": [
    {
     "name": "stdout",
     "output_type": "stream",
     "text": [
      "run func greet\n",
      "hi!\n",
      "done func <function greet at 0x103d90360>\n"
     ]
    }
   ],
   "source": [
    "greet = create_announced(greet)\n",
    "\n",
    "greet()"
   ]
  },
  {
   "cell_type": "code",
   "execution_count": 19,
   "id": "7b41c770-7823-473a-b004-8ee08e0a0d93",
   "metadata": {},
   "outputs": [
    {
     "name": "stdout",
     "output_type": "stream",
     "text": [
      "<function create_announced.<locals>.inner_func at 0x103d90180>\n"
     ]
    }
   ],
   "source": [
    "print(greet)"
   ]
  },
  {
   "cell_type": "code",
   "execution_count": 20,
   "id": "501e70e7-cdaf-4a03-93aa-cf376b7454c8",
   "metadata": {},
   "outputs": [
    {
     "name": "stdout",
     "output_type": "stream",
     "text": [
      "run func greet\n",
      "hi again\n",
      "done func <function greet at 0x103d90220>\n"
     ]
    }
   ],
   "source": [
    "@create_announced\n",
    "def greet():\n",
    "    print(\"hi again\")\n",
    "\n",
    "greet()"
   ]
  },
  {
   "cell_type": "code",
   "execution_count": 21,
   "id": "835b8508-a362-4b91-9d69-08ce27f83935",
   "metadata": {},
   "outputs": [
    {
     "name": "stdout",
     "output_type": "stream",
     "text": [
      "<function create_announced.<locals>.inner_func at 0x103d90400>\n"
     ]
    }
   ],
   "source": [
    "print(greet)"
   ]
  },
  {
   "cell_type": "code",
   "execution_count": 22,
   "id": "6d1009d1-3341-4bf1-a4e2-5841c9275dc8",
   "metadata": {},
   "outputs": [],
   "source": [
    "def get_name():\n",
    "    return \"John\""
   ]
  },
  {
   "cell_type": "code",
   "execution_count": 23,
   "id": "e438dc83-caef-4359-be75-9e5eb51bc666",
   "metadata": {},
   "outputs": [
    {
     "data": {
      "text/plain": [
       "'John'"
      ]
     },
     "execution_count": 23,
     "metadata": {},
     "output_type": "execute_result"
    }
   ],
   "source": [
    "get_name()"
   ]
  },
  {
   "cell_type": "code",
   "execution_count": 24,
   "id": "364511cf-c48b-410a-bfa5-c26fe0147c80",
   "metadata": {},
   "outputs": [],
   "source": [
    "name = get_name()"
   ]
  },
  {
   "cell_type": "code",
   "execution_count": 25,
   "id": "3fef51ac-d117-4f8a-b3cf-45c989356195",
   "metadata": {},
   "outputs": [
    {
     "data": {
      "text/plain": [
       "'John'"
      ]
     },
     "execution_count": 25,
     "metadata": {},
     "output_type": "execute_result"
    }
   ],
   "source": [
    "name"
   ]
  },
  {
   "cell_type": "code",
   "execution_count": 26,
   "id": "40eaca91-4548-4830-bebe-892f4f907113",
   "metadata": {},
   "outputs": [],
   "source": [
    "def say_hi(some_name):\n",
    "    return f\"Hi, {some_name}!\""
   ]
  },
  {
   "cell_type": "code",
   "execution_count": 27,
   "id": "b82d455b-2a73-4801-8784-bcb3524a4675",
   "metadata": {},
   "outputs": [
    {
     "data": {
      "text/plain": [
       "'Hi, John!'"
      ]
     },
     "execution_count": 27,
     "metadata": {},
     "output_type": "execute_result"
    }
   ],
   "source": [
    "say_hi(name)"
   ]
  },
  {
   "cell_type": "code",
   "execution_count": 28,
   "id": "1bff1763-bac2-4d66-b7ae-f3f04340d2e3",
   "metadata": {},
   "outputs": [
    {
     "name": "stdout",
     "output_type": "stream",
     "text": [
      "Sam\n"
     ]
    }
   ],
   "source": [
    "line = \"Sam\"\n",
    "print(line)"
   ]
  },
  {
   "cell_type": "code",
   "execution_count": 29,
   "id": "44bd1bce-38a5-4aec-81da-6459270e610b",
   "metadata": {},
   "outputs": [
    {
     "name": "stdout",
     "output_type": "stream",
     "text": [
      "Hi, Sam!\n"
     ]
    }
   ],
   "source": [
    "line = say_hi(line)\n",
    "print(line)"
   ]
  },
  {
   "cell_type": "code",
   "execution_count": 30,
   "id": "4c7593f4-056a-4c6d-84b3-48d8d1e83de6",
   "metadata": {},
   "outputs": [],
   "source": [
    "def fac(n):\n",
    "    if n <= 2:\n",
    "        return n\n",
    "    return fac(n - 1) * n"
   ]
  },
  {
   "cell_type": "code",
   "execution_count": 31,
   "id": "77001559-79c1-43d9-954d-b465354fcfc0",
   "metadata": {},
   "outputs": [
    {
     "data": {
      "text/plain": [
       "6"
      ]
     },
     "execution_count": 31,
     "metadata": {},
     "output_type": "execute_result"
    }
   ],
   "source": [
    "fac(3)"
   ]
  },
  {
   "cell_type": "code",
   "execution_count": 32,
   "id": "8f39923a-0268-464b-b8b0-85b5c63577fc",
   "metadata": {},
   "outputs": [
    {
     "data": {
      "text/plain": [
       "120"
      ]
     },
     "execution_count": 32,
     "metadata": {},
     "output_type": "execute_result"
    }
   ],
   "source": [
    "fac(5)"
   ]
  },
  {
   "cell_type": "code",
   "execution_count": 34,
   "id": "ad52a81a-d0af-48ce-8d6b-aec967946c5e",
   "metadata": {},
   "outputs": [],
   "source": [
    "def fac(n):\n",
    "    print(f\"find {n}!\")\n",
    "    if n <= 2:\n",
    "        return n\n",
    "    return fac(n - 1) * n"
   ]
  },
  {
   "cell_type": "code",
   "execution_count": 35,
   "id": "417f9cf2-70f6-4a82-b350-4fe1bd4a6735",
   "metadata": {},
   "outputs": [
    {
     "name": "stdout",
     "output_type": "stream",
     "text": [
      "find 2!\n"
     ]
    },
    {
     "data": {
      "text/plain": [
       "2"
      ]
     },
     "execution_count": 35,
     "metadata": {},
     "output_type": "execute_result"
    }
   ],
   "source": [
    "fac(2)"
   ]
  },
  {
   "cell_type": "code",
   "execution_count": 36,
   "id": "ed8c50ff-c2a6-4a43-8c61-57b6811c0afb",
   "metadata": {},
   "outputs": [
    {
     "name": "stdout",
     "output_type": "stream",
     "text": [
      "find 3!\n",
      "find 2!\n"
     ]
    },
    {
     "data": {
      "text/plain": [
       "6"
      ]
     },
     "execution_count": 36,
     "metadata": {},
     "output_type": "execute_result"
    }
   ],
   "source": [
    "fac(3)"
   ]
  },
  {
   "cell_type": "code",
   "execution_count": 37,
   "id": "d9ca1f93-c331-43ee-8a61-faf78ad81508",
   "metadata": {},
   "outputs": [
    {
     "name": "stdout",
     "output_type": "stream",
     "text": [
      "find 1!\n"
     ]
    },
    {
     "data": {
      "text/plain": [
       "1"
      ]
     },
     "execution_count": 37,
     "metadata": {},
     "output_type": "execute_result"
    }
   ],
   "source": [
    "fac(1)"
   ]
  },
  {
   "cell_type": "code",
   "execution_count": 38,
   "id": "57d3b187-54bb-4f9d-94c4-c2b45a7c43cc",
   "metadata": {},
   "outputs": [
    {
     "name": "stdout",
     "output_type": "stream",
     "text": [
      "find 5!\n",
      "find 4!\n",
      "find 3!\n",
      "find 2!\n"
     ]
    },
    {
     "data": {
      "text/plain": [
       "120"
      ]
     },
     "execution_count": 38,
     "metadata": {},
     "output_type": "execute_result"
    }
   ],
   "source": [
    "fac(5)"
   ]
  },
  {
   "cell_type": "code",
   "execution_count": 39,
   "id": "adf7f59a-c4e7-4d45-a508-babd815a8c0b",
   "metadata": {},
   "outputs": [
    {
     "name": "stdout",
     "output_type": "stream",
     "text": [
      "find 5!\n",
      "find 4!\n",
      "find 3!\n",
      "find 2!\n"
     ]
    },
    {
     "data": {
      "text/plain": [
       "120"
      ]
     },
     "execution_count": 39,
     "metadata": {},
     "output_type": "execute_result"
    }
   ],
   "source": [
    "fac(5)"
   ]
  },
  {
   "cell_type": "code",
   "execution_count": 40,
   "id": "83f15da4-822a-452f-8d10-8de481a07f54",
   "metadata": {},
   "outputs": [],
   "source": [
    "from functools import wraps"
   ]
  },
  {
   "cell_type": "code",
   "execution_count": 44,
   "id": "5a38e80b-7044-4144-828e-8f8bb7a6efcd",
   "metadata": {},
   "outputs": [],
   "source": [
    "def cached(func):\n",
    "\n",
    "    print(\"replace func\", func, \"with cache wrapper\")\n",
    "\n",
    "    func.cache = {}\n",
    "\n",
    "    @wraps(func)\n",
    "    def wrapper(n):\n",
    "        print(\"wrapper for func\", func.__name__, \"called with n =\", n)\n",
    "        if n not in func.cache:\n",
    "            func.cache[n] = func(n)\n",
    "        return func.cache[n]\n",
    "\n",
    "    return wrapper"
   ]
  },
  {
   "cell_type": "code",
   "execution_count": 46,
   "id": "c5350267-f45c-4660-8cd5-224e24ad0987",
   "metadata": {},
   "outputs": [
    {
     "name": "stdout",
     "output_type": "stream",
     "text": [
      "replace func <function fac at 0x103d904a0> with cache wrapper\n"
     ]
    }
   ],
   "source": [
    "@cached\n",
    "def fac(n):\n",
    "    print(f\"find {n}!\")\n",
    "    if n <= 2:\n",
    "        return n\n",
    "    return fac(n - 1) * n"
   ]
  },
  {
   "cell_type": "code",
   "execution_count": 47,
   "id": "148cfed1-42d8-4a44-ac99-cd7fae59bab1",
   "metadata": {},
   "outputs": [
    {
     "name": "stdout",
     "output_type": "stream",
     "text": [
      "<function fac at 0x103d90860>\n"
     ]
    }
   ],
   "source": [
    "print(fac)"
   ]
  },
  {
   "cell_type": "code",
   "execution_count": 48,
   "id": "8ccc7ced-86f9-44f0-bdb6-5f4ea71d34d7",
   "metadata": {},
   "outputs": [
    {
     "data": {
      "text/plain": [
       "<function __main__.fac(n)>"
      ]
     },
     "execution_count": 48,
     "metadata": {},
     "output_type": "execute_result"
    }
   ],
   "source": [
    "fac"
   ]
  },
  {
   "cell_type": "code",
   "execution_count": 49,
   "id": "5d88e860-20ea-44a8-801e-b503d5a5eb72",
   "metadata": {},
   "outputs": [
    {
     "data": {
      "text/plain": [
       "<function __main__.fac(n)>"
      ]
     },
     "execution_count": 49,
     "metadata": {},
     "output_type": "execute_result"
    }
   ],
   "source": [
    "fac.__wrapped__"
   ]
  },
  {
   "cell_type": "code",
   "execution_count": 50,
   "id": "a9769aee-a7a1-4e5d-aa47-7fd916053168",
   "metadata": {},
   "outputs": [
    {
     "name": "stdout",
     "output_type": "stream",
     "text": [
      "<function fac at 0x103d904a0>\n"
     ]
    }
   ],
   "source": [
    "print(fac.__wrapped__)"
   ]
  },
  {
   "cell_type": "code",
   "execution_count": 51,
   "id": "1def0e81-3dc4-4eef-9960-c552ba786578",
   "metadata": {},
   "outputs": [
    {
     "data": {
      "text/plain": [
       "{}"
      ]
     },
     "execution_count": 51,
     "metadata": {},
     "output_type": "execute_result"
    }
   ],
   "source": [
    "fac.cache"
   ]
  },
  {
   "cell_type": "code",
   "execution_count": 52,
   "id": "bd15037e-7e62-42a2-b5ca-dba6c820146b",
   "metadata": {},
   "outputs": [
    {
     "data": {
      "text/plain": [
       "True"
      ]
     },
     "execution_count": 52,
     "metadata": {},
     "output_type": "execute_result"
    }
   ],
   "source": [
    "fac.__wrapped__.cache is fac.cache"
   ]
  },
  {
   "cell_type": "code",
   "execution_count": 53,
   "id": "a9edc319-82ed-48ab-ba53-72335e5942dc",
   "metadata": {},
   "outputs": [
    {
     "name": "stdout",
     "output_type": "stream",
     "text": [
      "wrapper for func fac called with n = 5\n",
      "find 5!\n",
      "wrapper for func fac called with n = 4\n",
      "find 4!\n",
      "wrapper for func fac called with n = 3\n",
      "find 3!\n",
      "wrapper for func fac called with n = 2\n",
      "find 2!\n"
     ]
    },
    {
     "data": {
      "text/plain": [
       "120"
      ]
     },
     "execution_count": 53,
     "metadata": {},
     "output_type": "execute_result"
    }
   ],
   "source": [
    "fac(5)"
   ]
  },
  {
   "cell_type": "code",
   "execution_count": 54,
   "id": "ee5c990d-1025-481d-8c1f-f11e442f7aa7",
   "metadata": {},
   "outputs": [
    {
     "name": "stdout",
     "output_type": "stream",
     "text": [
      "wrapper for func fac called with n = 5\n"
     ]
    },
    {
     "data": {
      "text/plain": [
       "120"
      ]
     },
     "execution_count": 54,
     "metadata": {},
     "output_type": "execute_result"
    }
   ],
   "source": [
    "fac(5)"
   ]
  },
  {
   "cell_type": "code",
   "execution_count": 55,
   "id": "4457d61d-58e3-404d-a070-04ec48d20459",
   "metadata": {},
   "outputs": [
    {
     "name": "stdout",
     "output_type": "stream",
     "text": [
      "wrapper for func fac called with n = 4\n"
     ]
    },
    {
     "data": {
      "text/plain": [
       "24"
      ]
     },
     "execution_count": 55,
     "metadata": {},
     "output_type": "execute_result"
    }
   ],
   "source": [
    "fac(4)"
   ]
  },
  {
   "cell_type": "code",
   "execution_count": 56,
   "id": "fc7f3df5-7036-48ca-b1f6-3ffc3cf9652b",
   "metadata": {},
   "outputs": [
    {
     "name": "stdout",
     "output_type": "stream",
     "text": [
      "wrapper for func fac called with n = 3\n"
     ]
    },
    {
     "data": {
      "text/plain": [
       "6"
      ]
     },
     "execution_count": 56,
     "metadata": {},
     "output_type": "execute_result"
    }
   ],
   "source": [
    "fac(3)"
   ]
  },
  {
   "cell_type": "code",
   "execution_count": 57,
   "id": "28e0cccf-0b13-4462-b951-51a22c7a9616",
   "metadata": {},
   "outputs": [
    {
     "name": "stdout",
     "output_type": "stream",
     "text": [
      "wrapper for func fac called with n = 7\n",
      "find 7!\n",
      "wrapper for func fac called with n = 6\n",
      "find 6!\n",
      "wrapper for func fac called with n = 5\n"
     ]
    },
    {
     "data": {
      "text/plain": [
       "5040"
      ]
     },
     "execution_count": 57,
     "metadata": {},
     "output_type": "execute_result"
    }
   ],
   "source": [
    "fac(7)"
   ]
  },
  {
   "cell_type": "code",
   "execution_count": 58,
   "id": "5786e168-e090-406f-94fe-c99ea3de1879",
   "metadata": {},
   "outputs": [
    {
     "data": {
      "text/plain": [
       "<function __main__.hello()>"
      ]
     },
     "execution_count": 58,
     "metadata": {},
     "output_type": "execute_result"
    }
   ],
   "source": [
    "hello"
   ]
  },
  {
   "cell_type": "code",
   "execution_count": 59,
   "id": "7c556258-9504-4dfd-a98b-b4815f6cb757",
   "metadata": {},
   "outputs": [
    {
     "data": {
      "text/plain": [
       "False"
      ]
     },
     "execution_count": 59,
     "metadata": {},
     "output_type": "execute_result"
    }
   ],
   "source": [
    "hasattr(hello, \"__wrapped__\")"
   ]
  },
  {
   "cell_type": "code",
   "execution_count": 60,
   "id": "69c7876b-5b5f-4cef-bd2f-ebd6e571af33",
   "metadata": {},
   "outputs": [],
   "source": [
    "from functools import lru_cache"
   ]
  },
  {
   "cell_type": "code",
   "execution_count": 61,
   "id": "901b9bb1-9a97-4e36-b38e-9cddd40fd902",
   "metadata": {},
   "outputs": [],
   "source": [
    "from functools import cache"
   ]
  },
  {
   "cell_type": "code",
   "execution_count": 62,
   "id": "ca6b7b34-44a1-4dd4-ad5b-2a0347e83e60",
   "metadata": {},
   "outputs": [],
   "source": [
    "def powered(n, e):\n",
    "    return n ** e"
   ]
  },
  {
   "cell_type": "code",
   "execution_count": 63,
   "id": "8dbea39a-1b36-4f77-bd8a-0bd721f6266c",
   "metadata": {},
   "outputs": [
    {
     "data": {
      "text/plain": [
       "1024"
      ]
     },
     "execution_count": 63,
     "metadata": {},
     "output_type": "execute_result"
    }
   ],
   "source": [
    "powered(2, 10)"
   ]
  },
  {
   "cell_type": "code",
   "execution_count": 65,
   "id": "78ecd965-5a12-4c05-8aee-1af9adfe8f4f",
   "metadata": {},
   "outputs": [],
   "source": [
    "@cache\n",
    "def powered(n, e):\n",
    "    print(\"find power for n =\", n, \"and e =\", e)\n",
    "    return n ** e"
   ]
  },
  {
   "cell_type": "code",
   "execution_count": 66,
   "id": "3ede24f1-d537-4970-9ea8-525e6d48ae9a",
   "metadata": {},
   "outputs": [
    {
     "name": "stdout",
     "output_type": "stream",
     "text": [
      "find power for n = 2 and e = 10\n"
     ]
    },
    {
     "data": {
      "text/plain": [
       "1024"
      ]
     },
     "execution_count": 66,
     "metadata": {},
     "output_type": "execute_result"
    }
   ],
   "source": [
    "powered(2, 10)"
   ]
  },
  {
   "cell_type": "code",
   "execution_count": 67,
   "id": "fa69e15b-6d69-4d52-a751-1e9d75043fe0",
   "metadata": {},
   "outputs": [
    {
     "data": {
      "text/plain": [
       "1024"
      ]
     },
     "execution_count": 67,
     "metadata": {},
     "output_type": "execute_result"
    }
   ],
   "source": [
    "powered(2, 10)"
   ]
  },
  {
   "cell_type": "code",
   "execution_count": 68,
   "id": "49a43eab-6bf1-4a3c-9dcb-e1405e4154c0",
   "metadata": {},
   "outputs": [
    {
     "name": "stdout",
     "output_type": "stream",
     "text": [
      "find power for n = 2 and e = 10\n"
     ]
    },
    {
     "data": {
      "text/plain": [
       "1024"
      ]
     },
     "execution_count": 68,
     "metadata": {},
     "output_type": "execute_result"
    }
   ],
   "source": [
    "powered(2, e=10)"
   ]
  },
  {
   "cell_type": "code",
   "execution_count": 69,
   "id": "6caeedeb-f33d-4755-bac0-6f2d1d894c4f",
   "metadata": {},
   "outputs": [
    {
     "name": "stdout",
     "output_type": "stream",
     "text": [
      "find power for n = 2 and e = 10\n"
     ]
    },
    {
     "data": {
      "text/plain": [
       "1024"
      ]
     },
     "execution_count": 69,
     "metadata": {},
     "output_type": "execute_result"
    }
   ],
   "source": [
    "powered(n=2, e=10)"
   ]
  },
  {
   "cell_type": "code",
   "execution_count": 70,
   "id": "ada6a81f-0326-495c-b077-5c597224634d",
   "metadata": {},
   "outputs": [
    {
     "data": {
      "text/plain": [
       "1024"
      ]
     },
     "execution_count": 70,
     "metadata": {},
     "output_type": "execute_result"
    }
   ],
   "source": [
    "powered(n=2, e=10)"
   ]
  },
  {
   "cell_type": "code",
   "execution_count": 71,
   "id": "c3a2dad3-2e10-4bb6-8bbf-9e65d93525f4",
   "metadata": {},
   "outputs": [
    {
     "name": "stdout",
     "output_type": "stream",
     "text": [
      "find power for n = 2 and e = 10\n"
     ]
    },
    {
     "data": {
      "text/plain": [
       "1024"
      ]
     },
     "execution_count": 71,
     "metadata": {},
     "output_type": "execute_result"
    }
   ],
   "source": [
    "powered(e=10, n=2)"
   ]
  },
  {
   "cell_type": "code",
   "execution_count": 72,
   "id": "deb0c2a0-a7eb-4504-88c2-47539abf4bf1",
   "metadata": {},
   "outputs": [
    {
     "data": {
      "text/plain": [
       "CacheInfo(hits=2, misses=4, maxsize=None, currsize=4)"
      ]
     },
     "execution_count": 72,
     "metadata": {},
     "output_type": "execute_result"
    }
   ],
   "source": [
    "powered.cache_info()"
   ]
  },
  {
   "cell_type": "code",
   "execution_count": 73,
   "id": "63620cd8-ba7c-46ba-b6b5-a0dbeac258d5",
   "metadata": {},
   "outputs": [
    {
     "data": {
      "text/plain": [
       "1024"
      ]
     },
     "execution_count": 73,
     "metadata": {},
     "output_type": "execute_result"
    }
   ],
   "source": [
    "powered(n=2, e=10)"
   ]
  },
  {
   "cell_type": "code",
   "execution_count": 74,
   "id": "8204aa48-537a-4422-a5c6-49d02cfa089c",
   "metadata": {},
   "outputs": [
    {
     "data": {
      "text/plain": [
       "CacheInfo(hits=3, misses=4, maxsize=None, currsize=4)"
      ]
     },
     "execution_count": 74,
     "metadata": {},
     "output_type": "execute_result"
    }
   ],
   "source": [
    "powered.cache_info()"
   ]
  },
  {
   "cell_type": "code",
   "execution_count": 75,
   "id": "7030d0dd-167f-4124-a3cf-e92e8f724e08",
   "metadata": {},
   "outputs": [],
   "source": [
    "cache_info = powered.cache_info()"
   ]
  },
  {
   "cell_type": "code",
   "execution_count": 76,
   "id": "524fd15a-02a9-492b-a2bc-a6397145dbb8",
   "metadata": {},
   "outputs": [
    {
     "data": {
      "text/plain": [
       "functools.CacheInfo"
      ]
     },
     "execution_count": 76,
     "metadata": {},
     "output_type": "execute_result"
    }
   ],
   "source": [
    "type(cache_info)"
   ]
  },
  {
   "cell_type": "code",
   "execution_count": 77,
   "id": "51dcee89-dc94-47a3-9d3e-64bd0fcff29d",
   "metadata": {},
   "outputs": [
    {
     "data": {
      "text/plain": [
       "[functools.CacheInfo, tuple, object]"
      ]
     },
     "execution_count": 77,
     "metadata": {},
     "output_type": "execute_result"
    }
   ],
   "source": [
    "type(cache_info).mro()"
   ]
  },
  {
   "cell_type": "code",
   "execution_count": 78,
   "id": "cc0d0093-dff7-4641-8cae-45087a34f68f",
   "metadata": {},
   "outputs": [
    {
     "data": {
      "text/plain": [
       "{'cache_parameters': <function functools.lru_cache.<locals>.decorating_function.<locals>.<lambda>()>,\n",
       " '__module__': '__main__',\n",
       " '__name__': 'powered',\n",
       " '__qualname__': 'powered',\n",
       " '__doc__': None,\n",
       " '__annotations__': {},\n",
       " '__wrapped__': <function __main__.powered(n, e)>}"
      ]
     },
     "execution_count": 78,
     "metadata": {},
     "output_type": "execute_result"
    }
   ],
   "source": [
    "vars(powered)"
   ]
  },
  {
   "cell_type": "code",
   "execution_count": 79,
   "id": "3b84192a-ac91-43a5-950a-cf0f96e1ebd7",
   "metadata": {},
   "outputs": [
    {
     "data": {
      "text/plain": [
       "{'maxsize': None, 'typed': False}"
      ]
     },
     "execution_count": 79,
     "metadata": {},
     "output_type": "execute_result"
    }
   ],
   "source": [
    "powered.cache_parameters()"
   ]
  },
  {
   "cell_type": "code",
   "execution_count": 80,
   "id": "9d36d602-d3f7-471a-840d-0c80338598f1",
   "metadata": {},
   "outputs": [],
   "source": [
    "powered.cache_clear()"
   ]
  },
  {
   "cell_type": "code",
   "execution_count": 81,
   "id": "0c8970e1-7547-4d9f-b393-19fa4091172c",
   "metadata": {},
   "outputs": [
    {
     "data": {
      "text/plain": [
       "CacheInfo(hits=0, misses=0, maxsize=None, currsize=0)"
      ]
     },
     "execution_count": 81,
     "metadata": {},
     "output_type": "execute_result"
    }
   ],
   "source": [
    "powered.cache_info()"
   ]
  },
  {
   "cell_type": "code",
   "execution_count": 82,
   "id": "ad1fb8cf-a74f-4b04-bc71-e6bbabc3ed03",
   "metadata": {},
   "outputs": [
    {
     "name": "stdout",
     "output_type": "stream",
     "text": [
      "find power for n = 2 and e = 10\n"
     ]
    },
    {
     "data": {
      "text/plain": [
       "1024"
      ]
     },
     "execution_count": 82,
     "metadata": {},
     "output_type": "execute_result"
    }
   ],
   "source": [
    "powered(n=2, e=10)"
   ]
  },
  {
   "cell_type": "code",
   "execution_count": 83,
   "id": "60304061-05b0-4ac7-9716-3c13b2e3a720",
   "metadata": {},
   "outputs": [
    {
     "data": {
      "text/plain": [
       "CacheInfo(hits=0, misses=1, maxsize=None, currsize=1)"
      ]
     },
     "execution_count": 83,
     "metadata": {},
     "output_type": "execute_result"
    }
   ],
   "source": [
    "powered.cache_info()"
   ]
  },
  {
   "cell_type": "code",
   "execution_count": 84,
   "id": "f2c30050-3487-4b1b-a7cd-c9a56aa38fd8",
   "metadata": {},
   "outputs": [
    {
     "data": {
      "text/plain": [
       "1024"
      ]
     },
     "execution_count": 84,
     "metadata": {},
     "output_type": "execute_result"
    }
   ],
   "source": [
    "powered(n=2, e=10)"
   ]
  },
  {
   "cell_type": "code",
   "execution_count": 85,
   "id": "069a3c28-79ea-44e5-8000-0d1bd3e62a85",
   "metadata": {},
   "outputs": [
    {
     "data": {
      "text/plain": [
       "CacheInfo(hits=1, misses=1, maxsize=None, currsize=1)"
      ]
     },
     "execution_count": 85,
     "metadata": {},
     "output_type": "execute_result"
    }
   ],
   "source": [
    "powered.cache_info()"
   ]
  },
  {
   "cell_type": "code",
   "execution_count": 86,
   "id": "f45f2c3f-2d13-48f7-8605-4406e82992eb",
   "metadata": {},
   "outputs": [],
   "source": [
    "def add_meta(obj):\n",
    "    obj.__meta__ = {\"decorated\": True}\n",
    "    return obj"
   ]
  },
  {
   "cell_type": "code",
   "execution_count": 87,
   "id": "db2d6b90-f4d7-4869-8faf-67c3df1a40a1",
   "metadata": {},
   "outputs": [],
   "source": [
    "@add_meta\n",
    "class User:\n",
    "    pass"
   ]
  },
  {
   "cell_type": "code",
   "execution_count": 88,
   "id": "fce7681c-f3db-458a-8080-2b3b250cf07b",
   "metadata": {},
   "outputs": [
    {
     "data": {
      "text/plain": [
       "__main__.User"
      ]
     },
     "execution_count": 88,
     "metadata": {},
     "output_type": "execute_result"
    }
   ],
   "source": [
    "User"
   ]
  },
  {
   "cell_type": "code",
   "execution_count": 89,
   "id": "d62079ac-9057-474a-b1fa-ba8ad0b09e94",
   "metadata": {},
   "outputs": [
    {
     "data": {
      "text/plain": [
       "{'decorated': True}"
      ]
     },
     "execution_count": 89,
     "metadata": {},
     "output_type": "execute_result"
    }
   ],
   "source": [
    "User.__meta__"
   ]
  },
  {
   "cell_type": "code",
   "execution_count": 90,
   "id": "493fc549-8511-487e-993e-811725e08747",
   "metadata": {},
   "outputs": [],
   "source": [
    "def create_class(cls):\n",
    "\n",
    "    class NewClass(cls):\n",
    "        __meta__ = {\"inherited\": True}\n",
    "    \n",
    "    return NewClass"
   ]
  },
  {
   "cell_type": "code",
   "execution_count": 91,
   "id": "07c895fb-1579-4653-9231-4e909b84da0f",
   "metadata": {},
   "outputs": [],
   "source": [
    "@create_class\n",
    "class Manager:\n",
    "    pass"
   ]
  },
  {
   "cell_type": "code",
   "execution_count": 92,
   "id": "c660932d-bb6d-4a0a-9d5a-59e16fd047da",
   "metadata": {},
   "outputs": [
    {
     "data": {
      "text/plain": [
       "__main__.create_class.<locals>.NewClass"
      ]
     },
     "execution_count": 92,
     "metadata": {},
     "output_type": "execute_result"
    }
   ],
   "source": [
    "Manager"
   ]
  },
  {
   "cell_type": "code",
   "execution_count": 93,
   "id": "ec090f6c-460b-47f6-b432-58fdd0afb800",
   "metadata": {},
   "outputs": [
    {
     "data": {
      "text/plain": [
       "{'inherited': True}"
      ]
     },
     "execution_count": 93,
     "metadata": {},
     "output_type": "execute_result"
    }
   ],
   "source": [
    "Manager.__meta__"
   ]
  },
  {
   "cell_type": "code",
   "execution_count": 94,
   "id": "6e96d349-3d23-4649-9874-084eeefb2262",
   "metadata": {},
   "outputs": [],
   "source": [
    "@create_class\n",
    "class Dog:\n",
    "    name = \"Spot\""
   ]
  },
  {
   "cell_type": "code",
   "execution_count": 95,
   "id": "e4789a57-8259-4679-904b-80afa56805ba",
   "metadata": {},
   "outputs": [
    {
     "data": {
      "text/plain": [
       "'Spot'"
      ]
     },
     "execution_count": 95,
     "metadata": {},
     "output_type": "execute_result"
    }
   ],
   "source": [
    "Dog.name"
   ]
  },
  {
   "cell_type": "code",
   "execution_count": 96,
   "id": "62283ec8-62dc-4d1c-9e67-4f4b0b765c84",
   "metadata": {},
   "outputs": [
    {
     "data": {
      "text/plain": [
       "__main__.create_class.<locals>.NewClass"
      ]
     },
     "execution_count": 96,
     "metadata": {},
     "output_type": "execute_result"
    }
   ],
   "source": [
    "Dog"
   ]
  },
  {
   "cell_type": "code",
   "execution_count": 98,
   "id": "62f961db-71a8-42b2-b98d-6f186b3ca16d",
   "metadata": {},
   "outputs": [],
   "source": [
    "from dataclasses import dataclass\n",
    "\n",
    "@dataclass\n",
    "class Dog:\n",
    "    name: str\n",
    "    age: int"
   ]
  },
  {
   "cell_type": "code",
   "execution_count": 99,
   "id": "b0f05765-4dfc-46e4-9b5c-5d9916ca2f7c",
   "metadata": {},
   "outputs": [
    {
     "data": {
      "text/plain": [
       "__main__.Dog"
      ]
     },
     "execution_count": 99,
     "metadata": {},
     "output_type": "execute_result"
    }
   ],
   "source": [
    "Dog"
   ]
  },
  {
   "cell_type": "code",
   "execution_count": 100,
   "id": "b1290768-42a3-481b-802e-71b69856bb69",
   "metadata": {},
   "outputs": [
    {
     "data": {
      "text/plain": [
       "_DataclassParams(init=True,repr=True,eq=True,order=False,unsafe_hash=False,frozen=False)"
      ]
     },
     "execution_count": 100,
     "metadata": {},
     "output_type": "execute_result"
    }
   ],
   "source": [
    "Dog.__dataclass_params__"
   ]
  },
  {
   "cell_type": "code",
   "execution_count": 101,
   "id": "50757002-3677-440b-b7f0-b339660d82f7",
   "metadata": {},
   "outputs": [],
   "source": [
    "dog = Dog(\"Spot\", 2)"
   ]
  },
  {
   "cell_type": "code",
   "execution_count": 102,
   "id": "26a4738d-1cdc-4840-a1c5-ea1b13272133",
   "metadata": {},
   "outputs": [
    {
     "name": "stdout",
     "output_type": "stream",
     "text": [
      "Dog(name='Spot', age=2)\n"
     ]
    }
   ],
   "source": [
    "print(dog)"
   ]
  },
  {
   "cell_type": "code",
   "execution_count": 103,
   "id": "2f37853d-a0db-4142-bb3f-40be13425c67",
   "metadata": {},
   "outputs": [
    {
     "name": "stdout",
     "output_type": "stream",
     "text": [
      "Dog(name=3, age='Jack')\n"
     ]
    }
   ],
   "source": [
    "dog_jack = Dog(3, \"Jack\")\n",
    "print(dog_jack)"
   ]
  },
  {
   "cell_type": "code",
   "execution_count": 104,
   "id": "c1a825f5-bfc0-4997-8543-5d3d786cfc10",
   "metadata": {},
   "outputs": [],
   "source": [
    "class Dog:\n",
    "\n",
    "    @lru_cache\n",
    "    def sound(self):\n",
    "        return \"bow-wow-wow\""
   ]
  },
  {
   "cell_type": "code",
   "execution_count": 105,
   "id": "bea6d890-276a-4e01-a20d-c638d7cb74b9",
   "metadata": {},
   "outputs": [],
   "source": [
    "dog = Dog()"
   ]
  },
  {
   "cell_type": "code",
   "execution_count": 106,
   "id": "b5a108ac-cf54-4914-84ba-31cb71abe7fd",
   "metadata": {},
   "outputs": [
    {
     "data": {
      "text/plain": [
       "<__main__.Dog at 0x103dae810>"
      ]
     },
     "execution_count": 106,
     "metadata": {},
     "output_type": "execute_result"
    }
   ],
   "source": [
    "dog"
   ]
  },
  {
   "cell_type": "code",
   "execution_count": 107,
   "id": "b9aa1e64-66a0-4c1f-b2f8-7dc69c612f32",
   "metadata": {},
   "outputs": [
    {
     "data": {
      "text/plain": [
       "'bow-wow-wow'"
      ]
     },
     "execution_count": 107,
     "metadata": {},
     "output_type": "execute_result"
    }
   ],
   "source": [
    "dog.sound()"
   ]
  },
  {
   "cell_type": "code",
   "execution_count": 108,
   "id": "a0135158-37ec-4574-8dd8-6342de08e068",
   "metadata": {},
   "outputs": [
    {
     "name": "stdout",
     "output_type": "stream",
     "text": [
      "bow-wow-wow\n"
     ]
    }
   ],
   "source": [
    "print(dog.sound())"
   ]
  },
  {
   "cell_type": "code",
   "execution_count": 110,
   "id": "f44b0de9-ce86-4c8b-8f68-046835e7f309",
   "metadata": {},
   "outputs": [],
   "source": [
    "class Dog:\n",
    "\n",
    "    @property\n",
    "    @lru_cache\n",
    "    def sound(self):\n",
    "        return \"bow-wow-wow\""
   ]
  },
  {
   "cell_type": "code",
   "execution_count": 111,
   "id": "b0b8da80-09fb-4414-ab49-765779ceb436",
   "metadata": {},
   "outputs": [],
   "source": [
    "dog = Dog()"
   ]
  },
  {
   "cell_type": "code",
   "execution_count": 112,
   "id": "d7b516bd-1e05-469d-b726-ebc3194a5837",
   "metadata": {},
   "outputs": [
    {
     "data": {
      "text/plain": [
       "'bow-wow-wow'"
      ]
     },
     "execution_count": 112,
     "metadata": {},
     "output_type": "execute_result"
    }
   ],
   "source": [
    "dog.sound"
   ]
  },
  {
   "cell_type": "code",
   "execution_count": 113,
   "id": "2a44c28d-3e51-4467-8834-3110a11141e9",
   "metadata": {},
   "outputs": [],
   "source": [
    "@dataclass\n",
    "class Dog:\n",
    "    name: str\n",
    "\n",
    "    @property\n",
    "    def sound(self):\n",
    "        return \"bow-wow-wow\""
   ]
  },
  {
   "cell_type": "code",
   "execution_count": 114,
   "id": "739d85a4-45c8-4949-aafd-fc8b1b08b1c4",
   "metadata": {},
   "outputs": [
    {
     "name": "stdout",
     "output_type": "stream",
     "text": [
      "Dog(name='Spot')\n"
     ]
    }
   ],
   "source": [
    "dog = Dog(\"Spot\")\n",
    "print(dog)"
   ]
  },
  {
   "cell_type": "code",
   "execution_count": 115,
   "id": "6a218145-0438-4114-882f-1cb8baba5a9e",
   "metadata": {},
   "outputs": [
    {
     "data": {
      "text/plain": [
       "'bow-wow-wow'"
      ]
     },
     "execution_count": 115,
     "metadata": {},
     "output_type": "execute_result"
    }
   ],
   "source": [
    "dog.sound"
   ]
  },
  {
   "cell_type": "code",
   "execution_count": 116,
   "id": "57a88101-2c45-439f-b7c1-c6b02ed5335a",
   "metadata": {},
   "outputs": [
    {
     "data": {
      "text/plain": [
       "'Spot'"
      ]
     },
     "execution_count": 116,
     "metadata": {},
     "output_type": "execute_result"
    }
   ],
   "source": [
    "dog.name"
   ]
  },
  {
   "cell_type": "code",
   "execution_count": null,
   "id": "422776ac-d81d-4d17-96f0-af63ad5f82bc",
   "metadata": {},
   "outputs": [],
   "source": []
  }
 ],
 "metadata": {
  "kernelspec": {
   "display_name": "Python 3 (ipykernel)",
   "language": "python",
   "name": "python3"
  },
  "language_info": {
   "codemirror_mode": {
    "name": "ipython",
    "version": 3
   },
   "file_extension": ".py",
   "mimetype": "text/x-python",
   "name": "python",
   "nbconvert_exporter": "python",
   "pygments_lexer": "ipython3",
   "version": "3.11.4"
  }
 },
 "nbformat": 4,
 "nbformat_minor": 5
}
