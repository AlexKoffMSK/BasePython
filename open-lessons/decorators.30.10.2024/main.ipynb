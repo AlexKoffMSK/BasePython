{
 "cells": [
  {
   "cell_type": "code",
   "id": "initial_id",
   "metadata": {
    "collapsed": true,
    "ExecuteTime": {
     "end_time": "2024-10-30T17:13:48.191199Z",
     "start_time": "2024-10-30T17:13:48.185777Z"
    }
   },
   "source": "print(\"Hello World\")",
   "outputs": [
    {
     "name": "stdout",
     "output_type": "stream",
     "text": [
      "Hello World\n"
     ]
    }
   ],
   "execution_count": 1
  },
  {
   "metadata": {
    "ExecuteTime": {
     "end_time": "2024-10-30T17:13:53.695042Z",
     "start_time": "2024-10-30T17:13:53.689905Z"
    }
   },
   "cell_type": "code",
   "source": "1 + 2",
   "id": "806b2ba5e69e67ba",
   "outputs": [
    {
     "data": {
      "text/plain": [
       "3"
      ]
     },
     "execution_count": 2,
     "metadata": {},
     "output_type": "execute_result"
    }
   ],
   "execution_count": 2
  },
  {
   "metadata": {
    "ExecuteTime": {
     "end_time": "2024-10-30T17:14:04.052322Z",
     "start_time": "2024-10-30T17:14:04.050063Z"
    }
   },
   "cell_type": "code",
   "source": "print(\"spam and eggs \" * 5)",
   "id": "e9c2724187327349",
   "outputs": [
    {
     "name": "stdout",
     "output_type": "stream",
     "text": [
      "spam and eggs spam and eggs spam and eggs spam and eggs spam and eggs \n"
     ]
    }
   ],
   "execution_count": 3
  },
  {
   "metadata": {
    "ExecuteTime": {
     "end_time": "2024-10-30T17:14:49.093534Z",
     "start_time": "2024-10-30T17:14:49.091187Z"
    }
   },
   "cell_type": "code",
   "source": "print(print(\"hello\"))",
   "id": "94345b39727a2142",
   "outputs": [
    {
     "name": "stdout",
     "output_type": "stream",
     "text": [
      "hello\n",
      "None\n"
     ]
    }
   ],
   "execution_count": 4
  },
  {
   "metadata": {
    "ExecuteTime": {
     "end_time": "2024-10-30T17:15:12.563428Z",
     "start_time": "2024-10-30T17:15:12.561421Z"
    }
   },
   "cell_type": "code",
   "source": "print(1 + 2)",
   "id": "9595670e8a3bfad1",
   "outputs": [
    {
     "name": "stdout",
     "output_type": "stream",
     "text": [
      "3\n"
     ]
    }
   ],
   "execution_count": 5
  },
  {
   "metadata": {
    "ExecuteTime": {
     "end_time": "2024-10-30T17:15:53.620948Z",
     "start_time": "2024-10-30T17:15:53.618574Z"
    }
   },
   "cell_type": "code",
   "source": [
    "def hello():\n",
    "    print(\"hello!\")"
   ],
   "id": "2c3ad14a3b69113f",
   "outputs": [],
   "execution_count": 6
  },
  {
   "metadata": {
    "ExecuteTime": {
     "end_time": "2024-10-30T17:16:02.823158Z",
     "start_time": "2024-10-30T17:16:02.820401Z"
    }
   },
   "cell_type": "code",
   "source": "hello()",
   "id": "276926d90f1f6053",
   "outputs": [
    {
     "name": "stdout",
     "output_type": "stream",
     "text": [
      "hello!\n"
     ]
    }
   ],
   "execution_count": 7
  },
  {
   "metadata": {
    "ExecuteTime": {
     "end_time": "2024-10-30T17:16:16.483622Z",
     "start_time": "2024-10-30T17:16:16.481615Z"
    }
   },
   "cell_type": "code",
   "source": "hello()",
   "id": "6349bdc585c29d3b",
   "outputs": [
    {
     "name": "stdout",
     "output_type": "stream",
     "text": [
      "hello!\n"
     ]
    }
   ],
   "execution_count": 8
  },
  {
   "metadata": {
    "ExecuteTime": {
     "end_time": "2024-10-30T17:17:20.430296Z",
     "start_time": "2024-10-30T17:17:20.427675Z"
    }
   },
   "cell_type": "code",
   "source": [
    "def run_announced(func):\n",
    "    print(\"run function\", func)\n",
    "    func()\n",
    "    print(\"done running function\", func)"
   ],
   "id": "b858bb3e0f0d9413",
   "outputs": [],
   "execution_count": 9
  },
  {
   "metadata": {
    "ExecuteTime": {
     "end_time": "2024-10-30T17:17:24.413108Z",
     "start_time": "2024-10-30T17:17:24.410907Z"
    }
   },
   "cell_type": "code",
   "source": "hello()",
   "id": "a150506d44fa75cb",
   "outputs": [
    {
     "name": "stdout",
     "output_type": "stream",
     "text": [
      "hello!\n"
     ]
    }
   ],
   "execution_count": 10
  },
  {
   "metadata": {
    "ExecuteTime": {
     "end_time": "2024-10-30T17:17:35.140182Z",
     "start_time": "2024-10-30T17:17:35.138137Z"
    }
   },
   "cell_type": "code",
   "source": "run_announced(hello)",
   "id": "ffaf76406ef2b474",
   "outputs": [
    {
     "name": "stdout",
     "output_type": "stream",
     "text": [
      "run function <function hello at 0x10799c720>\n",
      "hello!\n",
      "done running function <function hello at 0x10799c720>\n"
     ]
    }
   ],
   "execution_count": 11
  },
  {
   "metadata": {
    "ExecuteTime": {
     "end_time": "2024-10-30T17:17:51.129876Z",
     "start_time": "2024-10-30T17:17:51.127001Z"
    }
   },
   "cell_type": "code",
   "source": "hello",
   "id": "7b7c20f0a0d9216d",
   "outputs": [
    {
     "data": {
      "text/plain": [
       "<function __main__.hello()>"
      ]
     },
     "execution_count": 12,
     "metadata": {},
     "output_type": "execute_result"
    }
   ],
   "execution_count": 12
  },
  {
   "metadata": {
    "ExecuteTime": {
     "end_time": "2024-10-30T17:17:57.286909Z",
     "start_time": "2024-10-30T17:17:57.284518Z"
    }
   },
   "cell_type": "code",
   "source": "print(hello)",
   "id": "49922dd8f056ff71",
   "outputs": [
    {
     "name": "stdout",
     "output_type": "stream",
     "text": [
      "<function hello at 0x10799c720>\n"
     ]
    }
   ],
   "execution_count": 13
  },
  {
   "metadata": {
    "ExecuteTime": {
     "end_time": "2024-10-30T17:19:17.410530Z",
     "start_time": "2024-10-30T17:19:17.407390Z"
    }
   },
   "cell_type": "code",
   "source": [
    "def new_hello():\n",
    "    run_announced(hello)"
   ],
   "id": "6b02caeead975f28",
   "outputs": [],
   "execution_count": 14
  },
  {
   "metadata": {
    "ExecuteTime": {
     "end_time": "2024-10-30T17:19:21.606752Z",
     "start_time": "2024-10-30T17:19:21.604988Z"
    }
   },
   "cell_type": "code",
   "source": "new_hello()",
   "id": "a64883db356d44f5",
   "outputs": [
    {
     "name": "stdout",
     "output_type": "stream",
     "text": [
      "run function <function hello at 0x10799c720>\n",
      "hello!\n",
      "done running function <function hello at 0x10799c720>\n"
     ]
    }
   ],
   "execution_count": 15
  },
  {
   "metadata": {
    "ExecuteTime": {
     "end_time": "2024-10-30T17:20:00.794534Z",
     "start_time": "2024-10-30T17:20:00.791334Z"
    }
   },
   "cell_type": "code",
   "source": [
    "def goodbye():\n",
    "    print(\"goodbye!\")"
   ],
   "id": "503fd024385a0edf",
   "outputs": [],
   "execution_count": 16
  },
  {
   "metadata": {
    "ExecuteTime": {
     "end_time": "2024-10-30T17:20:12.228605Z",
     "start_time": "2024-10-30T17:20:12.226524Z"
    }
   },
   "cell_type": "code",
   "source": [
    "def new_goodbye():\n",
    "    run_announced(goodbye)"
   ],
   "id": "982013906c3d512e",
   "outputs": [],
   "execution_count": 17
  },
  {
   "metadata": {
    "ExecuteTime": {
     "end_time": "2024-10-30T17:20:19.138297Z",
     "start_time": "2024-10-30T17:20:19.135816Z"
    }
   },
   "cell_type": "code",
   "source": "new_goodbye()",
   "id": "30c03aba9ab937e9",
   "outputs": [
    {
     "name": "stdout",
     "output_type": "stream",
     "text": [
      "run function <function goodbye at 0x107793d80>\n",
      "goodbye!\n",
      "done running function <function goodbye at 0x107793d80>\n"
     ]
    }
   ],
   "execution_count": 18
  },
  {
   "metadata": {
    "ExecuteTime": {
     "end_time": "2024-10-30T17:21:23.028734Z",
     "start_time": "2024-10-30T17:21:23.026787Z"
    }
   },
   "cell_type": "code",
   "source": [
    "def create_wrapped_announced(func):\n",
    "    def _run_announced():\n",
    "        run_announced(func)\n",
    "    return _run_announced"
   ],
   "id": "2aeb38219ab11c37",
   "outputs": [],
   "execution_count": 19
  },
  {
   "metadata": {
    "ExecuteTime": {
     "end_time": "2024-10-30T17:21:27.623068Z",
     "start_time": "2024-10-30T17:21:27.621006Z"
    }
   },
   "cell_type": "code",
   "source": "goodbye()",
   "id": "2e970de59bbd42e",
   "outputs": [
    {
     "name": "stdout",
     "output_type": "stream",
     "text": [
      "goodbye!\n"
     ]
    }
   ],
   "execution_count": 20
  },
  {
   "metadata": {
    "ExecuteTime": {
     "end_time": "2024-10-30T17:21:39.942979Z",
     "start_time": "2024-10-30T17:21:39.940070Z"
    }
   },
   "cell_type": "code",
   "source": "new_goodbye = create_wrapped_announced(goodbye)",
   "id": "a4588f6cf47cea8f",
   "outputs": [],
   "execution_count": 21
  },
  {
   "metadata": {
    "ExecuteTime": {
     "end_time": "2024-10-30T17:21:42.726554Z",
     "start_time": "2024-10-30T17:21:42.724536Z"
    }
   },
   "cell_type": "code",
   "source": "new_goodbye()",
   "id": "fd27241570f212c",
   "outputs": [
    {
     "name": "stdout",
     "output_type": "stream",
     "text": [
      "run function <function goodbye at 0x107793d80>\n",
      "goodbye!\n",
      "done running function <function goodbye at 0x107793d80>\n"
     ]
    }
   ],
   "execution_count": 22
  },
  {
   "metadata": {
    "ExecuteTime": {
     "end_time": "2024-10-30T17:21:47.927592Z",
     "start_time": "2024-10-30T17:21:47.925542Z"
    }
   },
   "cell_type": "code",
   "source": "goodbye()",
   "id": "39144bae5adba6fe",
   "outputs": [
    {
     "name": "stdout",
     "output_type": "stream",
     "text": [
      "goodbye!\n"
     ]
    }
   ],
   "execution_count": 23
  },
  {
   "metadata": {
    "ExecuteTime": {
     "end_time": "2024-10-30T17:21:56.630329Z",
     "start_time": "2024-10-30T17:21:56.627989Z"
    }
   },
   "cell_type": "code",
   "source": "goodbye = create_wrapped_announced(goodbye)",
   "id": "d405f6c520a75750",
   "outputs": [],
   "execution_count": 24
  },
  {
   "metadata": {
    "ExecuteTime": {
     "end_time": "2024-10-30T17:21:59.353981Z",
     "start_time": "2024-10-30T17:21:59.351853Z"
    }
   },
   "cell_type": "code",
   "source": "goodbye()",
   "id": "f9b206135c2b5676",
   "outputs": [
    {
     "name": "stdout",
     "output_type": "stream",
     "text": [
      "run function <function goodbye at 0x107793d80>\n",
      "goodbye!\n",
      "done running function <function goodbye at 0x107793d80>\n"
     ]
    }
   ],
   "execution_count": 25
  },
  {
   "metadata": {
    "ExecuteTime": {
     "end_time": "2024-10-30T17:24:22.114557Z",
     "start_time": "2024-10-30T17:24:22.111724Z"
    }
   },
   "cell_type": "code",
   "source": [
    "@create_wrapped_announced\n",
    "def say_hi():\n",
    "    print(\"hi!\")"
   ],
   "id": "fd573f88545e7d0f",
   "outputs": [],
   "execution_count": 26
  },
  {
   "metadata": {
    "ExecuteTime": {
     "end_time": "2024-10-30T17:24:27.606053Z",
     "start_time": "2024-10-30T17:24:27.604266Z"
    }
   },
   "cell_type": "code",
   "source": "print(say_hi)",
   "id": "6eb69ed65b63abd9",
   "outputs": [
    {
     "name": "stdout",
     "output_type": "stream",
     "text": [
      "<function create_wrapped_announced.<locals>._run_announced at 0x10799ccc0>\n"
     ]
    }
   ],
   "execution_count": 27
  },
  {
   "metadata": {
    "ExecuteTime": {
     "end_time": "2024-10-30T17:24:29.943215Z",
     "start_time": "2024-10-30T17:24:29.941015Z"
    }
   },
   "cell_type": "code",
   "source": "say_hi()",
   "id": "cf6a12cf67720498",
   "outputs": [
    {
     "name": "stdout",
     "output_type": "stream",
     "text": [
      "run function <function say_hi at 0x10799c7c0>\n",
      "hi!\n",
      "done running function <function say_hi at 0x10799c7c0>\n"
     ]
    }
   ],
   "execution_count": 28
  },
  {
   "metadata": {
    "ExecuteTime": {
     "end_time": "2024-10-30T17:26:26.111749Z",
     "start_time": "2024-10-30T17:26:26.109657Z"
    }
   },
   "cell_type": "code",
   "source": "goodbye()",
   "id": "81511aabdb399c9c",
   "outputs": [
    {
     "name": "stdout",
     "output_type": "stream",
     "text": [
      "run function <function goodbye at 0x107793d80>\n",
      "goodbye!\n",
      "done running function <function goodbye at 0x107793d80>\n"
     ]
    }
   ],
   "execution_count": 29
  },
  {
   "metadata": {
    "ExecuteTime": {
     "end_time": "2024-10-30T17:28:47.452393Z",
     "start_time": "2024-10-30T17:28:47.448197Z"
    }
   },
   "cell_type": "code",
   "source": [
    "def make_announced(func):\n",
    "    print(\"creating announced function\", func)\n",
    "    \n",
    "    def new_announced():\n",
    "        print(\"run function\", func)\n",
    "        func()\n",
    "        print(\"done function\", func)\n",
    "\n",
    "    print(\"successfully created announced func for\", func, \"announced:\", new_announced)\n",
    "    return new_announced"
   ],
   "id": "6f5a3b0102f443eb",
   "outputs": [],
   "execution_count": 30
  },
  {
   "metadata": {
    "ExecuteTime": {
     "end_time": "2024-10-30T17:29:06.246879Z",
     "start_time": "2024-10-30T17:29:06.244427Z"
    }
   },
   "cell_type": "code",
   "source": [
    "@make_announced\n",
    "def hello_world():\n",
    "    print(\"Hello World!\")"
   ],
   "id": "dcf77926a940ff0d",
   "outputs": [
    {
     "name": "stdout",
     "output_type": "stream",
     "text": [
      "creating announced function <function hello_world at 0x10799c680>\n",
      "successfully created announced func for <function hello_world at 0x10799c680> announced: <function make_announced.<locals>.new_announced at 0x10799d080>\n"
     ]
    }
   ],
   "execution_count": 31
  },
  {
   "metadata": {
    "ExecuteTime": {
     "end_time": "2024-10-30T17:29:48.763449Z",
     "start_time": "2024-10-30T17:29:48.760683Z"
    }
   },
   "cell_type": "code",
   "source": "print(hello_world)",
   "id": "cada87ec39f26fa4",
   "outputs": [
    {
     "name": "stdout",
     "output_type": "stream",
     "text": [
      "<function make_announced.<locals>.new_announced at 0x10799d080>\n"
     ]
    }
   ],
   "execution_count": 32
  },
  {
   "metadata": {
    "ExecuteTime": {
     "end_time": "2024-10-30T17:31:02.479754Z",
     "start_time": "2024-10-30T17:31:02.477184Z"
    }
   },
   "cell_type": "code",
   "source": "hello_world.__doc__",
   "id": "f36f885bbf91be21",
   "outputs": [],
   "execution_count": 33
  },
  {
   "metadata": {
    "ExecuteTime": {
     "end_time": "2024-10-30T17:31:11.914716Z",
     "start_time": "2024-10-30T17:31:11.912755Z"
    }
   },
   "cell_type": "code",
   "source": "print(hello_world.__doc__)",
   "id": "20e2d4d816c5f6e7",
   "outputs": [
    {
     "name": "stdout",
     "output_type": "stream",
     "text": [
      "None\n"
     ]
    }
   ],
   "execution_count": 34
  },
  {
   "metadata": {
    "ExecuteTime": {
     "end_time": "2024-10-30T17:31:21.085263Z",
     "start_time": "2024-10-30T17:31:21.082994Z"
    }
   },
   "cell_type": "code",
   "source": "print(hello_world.__name__)",
   "id": "cc778e73bd1bc95b",
   "outputs": [
    {
     "name": "stdout",
     "output_type": "stream",
     "text": [
      "new_announced\n"
     ]
    }
   ],
   "execution_count": 35
  },
  {
   "metadata": {
    "ExecuteTime": {
     "end_time": "2024-10-30T17:31:31.864774Z",
     "start_time": "2024-10-30T17:31:31.860715Z"
    }
   },
   "cell_type": "code",
   "source": "from functools import wraps",
   "id": "f947ea3a5ba58926",
   "outputs": [],
   "execution_count": 36
  },
  {
   "metadata": {
    "ExecuteTime": {
     "end_time": "2024-10-30T17:32:09.998346Z",
     "start_time": "2024-10-30T17:32:09.996218Z"
    }
   },
   "cell_type": "code",
   "source": [
    "def make_announced(func):\n",
    "    print(\"creating announced function\", func)\n",
    "    \n",
    "    @wraps(func)\n",
    "    def new_announced():\n",
    "        print(\"run function\", func)\n",
    "        func()\n",
    "        print(\"done function\", func)\n",
    "\n",
    "    print(\"successfully created announced func for\", func, \"announced:\", new_announced)\n",
    "    return new_announced"
   ],
   "id": "dfd67c7661df65ed",
   "outputs": [],
   "execution_count": 37
  },
  {
   "metadata": {
    "ExecuteTime": {
     "end_time": "2024-10-30T17:32:26.482372Z",
     "start_time": "2024-10-30T17:32:26.473953Z"
    }
   },
   "cell_type": "code",
   "source": [
    "@make_announced\n",
    "def hello_world():\n",
    "    \"\"\"Hello doc string\"\"\"\n",
    "    print(\"hello world!!!\")"
   ],
   "id": "648ee2ca3e05f79f",
   "outputs": [
    {
     "name": "stdout",
     "output_type": "stream",
     "text": [
      "creating announced function <function hello_world at 0x10799cc20>\n",
      "successfully created announced func for <function hello_world at 0x10799cc20> announced: <function hello_world at 0x107793ec0>\n"
     ]
    }
   ],
   "execution_count": 38
  },
  {
   "metadata": {
    "ExecuteTime": {
     "end_time": "2024-10-30T17:33:03.025908Z",
     "start_time": "2024-10-30T17:33:03.023262Z"
    }
   },
   "cell_type": "code",
   "source": "print(hello_world.__doc__)",
   "id": "355562d65030ee64",
   "outputs": [
    {
     "name": "stdout",
     "output_type": "stream",
     "text": [
      "Hello doc string\n"
     ]
    }
   ],
   "execution_count": 39
  },
  {
   "metadata": {
    "ExecuteTime": {
     "end_time": "2024-10-30T17:33:09.922395Z",
     "start_time": "2024-10-30T17:33:09.918001Z"
    }
   },
   "cell_type": "code",
   "source": "print(hello_world.__name__)",
   "id": "b7824ff5a000c85e",
   "outputs": [
    {
     "name": "stdout",
     "output_type": "stream",
     "text": [
      "hello_world\n"
     ]
    }
   ],
   "execution_count": 40
  },
  {
   "metadata": {
    "ExecuteTime": {
     "end_time": "2024-10-30T17:33:18.835687Z",
     "start_time": "2024-10-30T17:33:18.830799Z"
    }
   },
   "cell_type": "code",
   "source": "hello_world()",
   "id": "59c2cfdfe81d0651",
   "outputs": [
    {
     "name": "stdout",
     "output_type": "stream",
     "text": [
      "run function <function hello_world at 0x10799cc20>\n",
      "hello world!!!\n",
      "done function <function hello_world at 0x10799cc20>\n"
     ]
    }
   ],
   "execution_count": 41
  },
  {
   "metadata": {
    "ExecuteTime": {
     "end_time": "2024-10-30T17:33:24.946948Z",
     "start_time": "2024-10-30T17:33:24.943800Z"
    }
   },
   "cell_type": "code",
   "source": "print(hello_world)",
   "id": "362f2e5e22e48430",
   "outputs": [
    {
     "name": "stdout",
     "output_type": "stream",
     "text": [
      "<function hello_world at 0x107793ec0>\n"
     ]
    }
   ],
   "execution_count": 42
  },
  {
   "metadata": {
    "ExecuteTime": {
     "end_time": "2024-10-30T17:33:44.439718Z",
     "start_time": "2024-10-30T17:33:44.437224Z"
    }
   },
   "cell_type": "code",
   "source": "print(hello_world.__wrapped__)",
   "id": "627b9ab9c665a0d6",
   "outputs": [
    {
     "name": "stdout",
     "output_type": "stream",
     "text": [
      "<function hello_world at 0x10799cc20>\n"
     ]
    }
   ],
   "execution_count": 43
  },
  {
   "metadata": {
    "ExecuteTime": {
     "end_time": "2024-10-30T17:34:35.334173Z",
     "start_time": "2024-10-30T17:34:35.332238Z"
    }
   },
   "cell_type": "code",
   "source": [
    "def square(num):\n",
    "    return num * num"
   ],
   "id": "5147bff5edc60d0b",
   "outputs": [],
   "execution_count": 44
  },
  {
   "metadata": {
    "ExecuteTime": {
     "end_time": "2024-10-30T17:34:38.629388Z",
     "start_time": "2024-10-30T17:34:38.624724Z"
    }
   },
   "cell_type": "code",
   "source": "square(5)",
   "id": "e8cab52b3cd623eb",
   "outputs": [
    {
     "data": {
      "text/plain": [
       "25"
      ]
     },
     "execution_count": 45,
     "metadata": {},
     "output_type": "execute_result"
    }
   ],
   "execution_count": 45
  },
  {
   "metadata": {
    "ExecuteTime": {
     "end_time": "2024-10-30T17:35:23.728165Z",
     "start_time": "2024-10-30T17:35:23.725666Z"
    }
   },
   "cell_type": "code",
   "source": [
    "def make_announced(func):\n",
    "    print(\"creating announced function\", func)\n",
    "    \n",
    "    @wraps(func)\n",
    "    def new_announced(*args):\n",
    "        print(\"run function\", func)\n",
    "        func(*args)\n",
    "        print(\"done function\", func)\n",
    "\n",
    "    print(\"successfully created announced func for\", func, \"announced:\", new_announced)\n",
    "    return new_announced"
   ],
   "id": "91d6508f0684d24c",
   "outputs": [],
   "execution_count": 46
  },
  {
   "metadata": {
    "ExecuteTime": {
     "end_time": "2024-10-30T17:36:38.924081Z",
     "start_time": "2024-10-30T17:36:38.921068Z"
    }
   },
   "cell_type": "code",
   "source": [
    "@make_announced\n",
    "def square(num):\n",
    "    return num * num"
   ],
   "id": "e3391a40906bdb6c",
   "outputs": [
    {
     "name": "stdout",
     "output_type": "stream",
     "text": [
      "creating announced function <function square at 0x10799cfe0>\n",
      "successfully created announced func for <function square at 0x10799cfe0> announced: <function square at 0x10799d260>\n"
     ]
    }
   ],
   "execution_count": 47
  },
  {
   "metadata": {
    "ExecuteTime": {
     "end_time": "2024-10-30T17:36:50.727186Z",
     "start_time": "2024-10-30T17:36:50.724191Z"
    }
   },
   "cell_type": "code",
   "source": "print(help(square))",
   "id": "d18a21ae768a6d77",
   "outputs": [
    {
     "name": "stdout",
     "output_type": "stream",
     "text": [
      "Help on function square in module __main__:\n",
      "\n",
      "square(num)\n",
      "\n",
      "None\n"
     ]
    }
   ],
   "execution_count": 48
  },
  {
   "metadata": {
    "ExecuteTime": {
     "end_time": "2024-10-30T17:36:59.889978Z",
     "start_time": "2024-10-30T17:36:59.887515Z"
    }
   },
   "cell_type": "code",
   "source": "print(help(square.__wrapped__))",
   "id": "46b4cd7e5aaa6fcd",
   "outputs": [
    {
     "name": "stdout",
     "output_type": "stream",
     "text": [
      "Help on function square in module __main__:\n",
      "\n",
      "square(num)\n",
      "\n",
      "None\n"
     ]
    }
   ],
   "execution_count": 49
  },
  {
   "metadata": {
    "ExecuteTime": {
     "end_time": "2024-10-30T17:37:29.445068Z",
     "start_time": "2024-10-30T17:37:29.443135Z"
    }
   },
   "cell_type": "code",
   "source": "square(3)",
   "id": "c4256a2d0d289885",
   "outputs": [
    {
     "name": "stdout",
     "output_type": "stream",
     "text": [
      "run function <function square at 0x10799cfe0>\n",
      "done function <function square at 0x10799cfe0>\n"
     ]
    }
   ],
   "execution_count": 50
  },
  {
   "metadata": {
    "ExecuteTime": {
     "end_time": "2024-10-30T17:37:51.428839Z",
     "start_time": "2024-10-30T17:37:51.426733Z"
    }
   },
   "cell_type": "code",
   "source": "print(square(4))",
   "id": "baec8297cf91a80f",
   "outputs": [
    {
     "name": "stdout",
     "output_type": "stream",
     "text": [
      "run function <function square at 0x10799cfe0>\n",
      "done function <function square at 0x10799cfe0>\n",
      "None\n"
     ]
    }
   ],
   "execution_count": 51
  },
  {
   "metadata": {
    "ExecuteTime": {
     "end_time": "2024-10-30T17:38:06.469289Z",
     "start_time": "2024-10-30T17:38:06.466164Z"
    }
   },
   "cell_type": "code",
   "source": [
    "def make_announced(func):\n",
    "    print(\"creating announced function\", func)\n",
    "    \n",
    "    @wraps(func)\n",
    "    def new_announced(*args):\n",
    "        print(\"run function\", func)\n",
    "        result = func(*args)\n",
    "        print(\"done function\", func, \"res:\", result)\n",
    "        return result\n",
    "\n",
    "    print(\"successfully created announced func for\", func, \"announced:\", new_announced)\n",
    "    return new_announced"
   ],
   "id": "12fd324d0ce26d40",
   "outputs": [],
   "execution_count": 52
  },
  {
   "metadata": {
    "ExecuteTime": {
     "end_time": "2024-10-30T17:38:17.351815Z",
     "start_time": "2024-10-30T17:38:17.349443Z"
    }
   },
   "cell_type": "code",
   "source": [
    "@make_announced\n",
    "def square(num):\n",
    "    return num * num"
   ],
   "id": "db3830d539942f72",
   "outputs": [
    {
     "name": "stdout",
     "output_type": "stream",
     "text": [
      "creating announced function <function square at 0x10799d120>\n",
      "successfully created announced func for <function square at 0x10799d120> announced: <function square at 0x10799cf40>\n"
     ]
    }
   ],
   "execution_count": 53
  },
  {
   "metadata": {
    "ExecuteTime": {
     "end_time": "2024-10-30T17:38:24.743249Z",
     "start_time": "2024-10-30T17:38:24.739848Z"
    }
   },
   "cell_type": "code",
   "source": "square(6)",
   "id": "55eea803d121d82f",
   "outputs": [
    {
     "name": "stdout",
     "output_type": "stream",
     "text": [
      "run function <function square at 0x10799d120>\n",
      "done function <function square at 0x10799d120> res: 36\n"
     ]
    },
    {
     "data": {
      "text/plain": [
       "36"
      ]
     },
     "execution_count": 54,
     "metadata": {},
     "output_type": "execute_result"
    }
   ],
   "execution_count": 54
  },
  {
   "metadata": {
    "ExecuteTime": {
     "end_time": "2024-10-30T17:38:47.648038Z",
     "start_time": "2024-10-30T17:38:47.645657Z"
    }
   },
   "cell_type": "code",
   "source": [
    "@make_announced\n",
    "def power(num, exponent):\n",
    "    return num ** exponent"
   ],
   "id": "8fadd3b0440b127f",
   "outputs": [
    {
     "name": "stdout",
     "output_type": "stream",
     "text": [
      "creating announced function <function power at 0x10799cfe0>\n",
      "successfully created announced func for <function power at 0x10799cfe0> announced: <function power at 0x10799c540>\n"
     ]
    }
   ],
   "execution_count": 55
  },
  {
   "metadata": {
    "ExecuteTime": {
     "end_time": "2024-10-30T17:38:53.824044Z",
     "start_time": "2024-10-30T17:38:53.820398Z"
    }
   },
   "cell_type": "code",
   "source": "power(3, 4)",
   "id": "ea5b94d2101ed48f",
   "outputs": [
    {
     "name": "stdout",
     "output_type": "stream",
     "text": [
      "run function <function power at 0x10799cfe0>\n",
      "done function <function power at 0x10799cfe0> res: 81\n"
     ]
    },
    {
     "data": {
      "text/plain": [
       "81"
      ]
     },
     "execution_count": 56,
     "metadata": {},
     "output_type": "execute_result"
    }
   ],
   "execution_count": 56
  },
  {
   "metadata": {
    "ExecuteTime": {
     "end_time": "2024-10-30T17:39:42.479755Z",
     "start_time": "2024-10-30T17:39:42.477552Z"
    }
   },
   "cell_type": "code",
   "source": [
    "def make_announced(func):\n",
    "    print(\"creating announced function\", func)\n",
    "    \n",
    "    @wraps(func)\n",
    "    def new_announced(*args, **kwargs):\n",
    "        print(\"run function\", func)\n",
    "        result = func(*args, **kwargs)\n",
    "        print(\"done function\", func, \"res:\", result)\n",
    "        return result\n",
    "\n",
    "    print(\"successfully created announced func for\", func, \"announced:\", new_announced)\n",
    "    return new_announced"
   ],
   "id": "b753212d0c5b1c90",
   "outputs": [],
   "execution_count": 57
  },
  {
   "metadata": {
    "ExecuteTime": {
     "end_time": "2024-10-30T17:40:00.404627Z",
     "start_time": "2024-10-30T17:40:00.401460Z"
    }
   },
   "cell_type": "code",
   "source": [
    "@make_announced\n",
    "def square(num):\n",
    "    return num * num\n",
    "\n",
    "@make_announced\n",
    "def power(num, exponent=2):\n",
    "    return num ** exponent"
   ],
   "id": "50f922168a4b6fd3",
   "outputs": [
    {
     "name": "stdout",
     "output_type": "stream",
     "text": [
      "creating announced function <function square at 0x10799cea0>\n",
      "successfully created announced func for <function square at 0x10799cea0> announced: <function square at 0x10799d440>\n",
      "creating announced function <function power at 0x10799d120>\n",
      "successfully created announced func for <function power at 0x10799d120> announced: <function power at 0x10799d4e0>\n"
     ]
    }
   ],
   "execution_count": 58
  },
  {
   "metadata": {
    "ExecuteTime": {
     "end_time": "2024-10-30T17:40:05.974403Z",
     "start_time": "2024-10-30T17:40:05.971703Z"
    }
   },
   "cell_type": "code",
   "source": "square(3)",
   "id": "fc3ea2338ee4ea76",
   "outputs": [
    {
     "name": "stdout",
     "output_type": "stream",
     "text": [
      "run function <function square at 0x10799cea0>\n",
      "done function <function square at 0x10799cea0> res: 9\n"
     ]
    },
    {
     "data": {
      "text/plain": [
       "9"
      ]
     },
     "execution_count": 59,
     "metadata": {},
     "output_type": "execute_result"
    }
   ],
   "execution_count": 59
  },
  {
   "metadata": {
    "ExecuteTime": {
     "end_time": "2024-10-30T17:40:09.448566Z",
     "start_time": "2024-10-30T17:40:09.441265Z"
    }
   },
   "cell_type": "code",
   "source": "square(num=4)",
   "id": "2031214c3b02e46",
   "outputs": [
    {
     "name": "stdout",
     "output_type": "stream",
     "text": [
      "run function <function square at 0x10799cea0>\n",
      "done function <function square at 0x10799cea0> res: 16\n"
     ]
    },
    {
     "data": {
      "text/plain": [
       "16"
      ]
     },
     "execution_count": 60,
     "metadata": {},
     "output_type": "execute_result"
    }
   ],
   "execution_count": 60
  },
  {
   "metadata": {
    "ExecuteTime": {
     "end_time": "2024-10-30T17:40:31.703121Z",
     "start_time": "2024-10-30T17:40:31.700798Z"
    }
   },
   "cell_type": "code",
   "source": [
    "def make_announced(func):\n",
    "    print(\"creating announced function\", func)\n",
    "    \n",
    "    @wraps(func)\n",
    "    def new_announced(*args, **kwargs):\n",
    "        print(\"run function\", func, \"args:\", args, \"kwargs:\", kwargs)\n",
    "        result = func(*args, **kwargs)\n",
    "        print(\"done function\", func, \"res:\", result)\n",
    "        return result\n",
    "\n",
    "    print(\"successfully created announced func for\", func, \"announced:\", new_announced)\n",
    "    return new_announced"
   ],
   "id": "90587f105a72241",
   "outputs": [],
   "execution_count": 61
  },
  {
   "metadata": {
    "ExecuteTime": {
     "end_time": "2024-10-30T17:40:36.423245Z",
     "start_time": "2024-10-30T17:40:36.420310Z"
    }
   },
   "cell_type": "code",
   "source": [
    "@make_announced\n",
    "def square(num):\n",
    "    return num * num\n",
    "\n",
    "@make_announced\n",
    "def power(num, exponent=2):\n",
    "    return num ** exponent"
   ],
   "id": "881bca01e5096652",
   "outputs": [
    {
     "name": "stdout",
     "output_type": "stream",
     "text": [
      "creating announced function <function square at 0x10799d300>\n",
      "successfully created announced func for <function square at 0x10799d300> announced: <function square at 0x10799d1c0>\n",
      "creating announced function <function power at 0x10799cea0>\n",
      "successfully created announced func for <function power at 0x10799cea0> announced: <function power at 0x10799c2c0>\n"
     ]
    }
   ],
   "execution_count": 62
  },
  {
   "metadata": {
    "ExecuteTime": {
     "end_time": "2024-10-30T17:40:39.421700Z",
     "start_time": "2024-10-30T17:40:39.418907Z"
    }
   },
   "cell_type": "code",
   "source": "power(3, 4)",
   "id": "f1bbda136b252f07",
   "outputs": [
    {
     "name": "stdout",
     "output_type": "stream",
     "text": [
      "run function <function power at 0x10799cea0> args: (3, 4) kwargs: {}\n",
      "done function <function power at 0x10799cea0> res: 81\n"
     ]
    },
    {
     "data": {
      "text/plain": [
       "81"
      ]
     },
     "execution_count": 63,
     "metadata": {},
     "output_type": "execute_result"
    }
   ],
   "execution_count": 63
  },
  {
   "metadata": {
    "ExecuteTime": {
     "end_time": "2024-10-30T17:40:49.072215Z",
     "start_time": "2024-10-30T17:40:49.067811Z"
    }
   },
   "cell_type": "code",
   "source": "power(2, exponent=3)",
   "id": "c8114ffdc1598fca",
   "outputs": [
    {
     "name": "stdout",
     "output_type": "stream",
     "text": [
      "run function <function power at 0x10799cea0> args: (2,) kwargs: {'exponent': 3}\n",
      "done function <function power at 0x10799cea0> res: 8\n"
     ]
    },
    {
     "data": {
      "text/plain": [
       "8"
      ]
     },
     "execution_count": 64,
     "metadata": {},
     "output_type": "execute_result"
    }
   ],
   "execution_count": 64
  },
  {
   "metadata": {
    "ExecuteTime": {
     "end_time": "2024-10-30T17:41:06.824875Z",
     "start_time": "2024-10-30T17:41:06.821547Z"
    }
   },
   "cell_type": "code",
   "source": "power(num=3, exponent=2)",
   "id": "debed893a4b748b7",
   "outputs": [
    {
     "name": "stdout",
     "output_type": "stream",
     "text": [
      "run function <function power at 0x10799cea0> args: () kwargs: {'num': 3, 'exponent': 2}\n",
      "done function <function power at 0x10799cea0> res: 9\n"
     ]
    },
    {
     "data": {
      "text/plain": [
       "9"
      ]
     },
     "execution_count": 65,
     "metadata": {},
     "output_type": "execute_result"
    }
   ],
   "execution_count": 65
  },
  {
   "metadata": {
    "ExecuteTime": {
     "end_time": "2024-10-30T17:41:21.544738Z",
     "start_time": "2024-10-30T17:41:21.541504Z"
    }
   },
   "cell_type": "code",
   "source": "power(exponent=2, num=3)",
   "id": "e71d31626cf9565f",
   "outputs": [
    {
     "name": "stdout",
     "output_type": "stream",
     "text": [
      "run function <function power at 0x10799cea0> args: () kwargs: {'exponent': 2, 'num': 3}\n",
      "done function <function power at 0x10799cea0> res: 9\n"
     ]
    },
    {
     "data": {
      "text/plain": [
       "9"
      ]
     },
     "execution_count": 66,
     "metadata": {},
     "output_type": "execute_result"
    }
   ],
   "execution_count": 66
  },
  {
   "metadata": {
    "ExecuteTime": {
     "end_time": "2024-10-30T17:41:34.649714Z",
     "start_time": "2024-10-30T17:41:34.645900Z"
    }
   },
   "cell_type": "code",
   "source": "power(2, 3)",
   "id": "ce10901cbcd8407b",
   "outputs": [
    {
     "name": "stdout",
     "output_type": "stream",
     "text": [
      "run function <function power at 0x10799cea0> args: (2, 3) kwargs: {}\n",
      "done function <function power at 0x10799cea0> res: 8\n"
     ]
    },
    {
     "data": {
      "text/plain": [
       "8"
      ]
     },
     "execution_count": 67,
     "metadata": {},
     "output_type": "execute_result"
    }
   ],
   "execution_count": 67
  },
  {
   "metadata": {
    "ExecuteTime": {
     "end_time": "2024-10-30T17:41:39.220966Z",
     "start_time": "2024-10-30T17:41:39.217609Z"
    }
   },
   "cell_type": "code",
   "source": "power(3, 2)",
   "id": "2f07d7f964e2a191",
   "outputs": [
    {
     "name": "stdout",
     "output_type": "stream",
     "text": [
      "run function <function power at 0x10799cea0> args: (3, 2) kwargs: {}\n",
      "done function <function power at 0x10799cea0> res: 9\n"
     ]
    },
    {
     "data": {
      "text/plain": [
       "9"
      ]
     },
     "execution_count": 68,
     "metadata": {},
     "output_type": "execute_result"
    }
   ],
   "execution_count": 68
  },
  {
   "metadata": {
    "ExecuteTime": {
     "end_time": "2024-10-30T17:47:24.763894Z",
     "start_time": "2024-10-30T17:47:24.761818Z"
    }
   },
   "cell_type": "code",
   "source": [
    "def normalize_id(user_id: int | str) -> str:\n",
    "    if isinstance(user_id, str):\n",
    "        return user_id\n",
    "    return f'user-{user_id:05d}'"
   ],
   "id": "58846f1021ebc94f",
   "outputs": [],
   "execution_count": 71
  },
  {
   "metadata": {
    "ExecuteTime": {
     "end_time": "2024-10-30T17:47:25.120409Z",
     "start_time": "2024-10-30T17:47:25.117029Z"
    }
   },
   "cell_type": "code",
   "source": "normalize_id(\"user-123\")",
   "id": "f0b87defeaaa2280",
   "outputs": [
    {
     "data": {
      "text/plain": [
       "'user-123'"
      ]
     },
     "execution_count": 72,
     "metadata": {},
     "output_type": "execute_result"
    }
   ],
   "execution_count": 72
  },
  {
   "metadata": {
    "ExecuteTime": {
     "end_time": "2024-10-30T17:47:29.546884Z",
     "start_time": "2024-10-30T17:47:29.543162Z"
    }
   },
   "cell_type": "code",
   "source": "normalize_id(123)",
   "id": "6d6ae89cfa8cb477",
   "outputs": [
    {
     "data": {
      "text/plain": [
       "'user-00123'"
      ]
     },
     "execution_count": 73,
     "metadata": {},
     "output_type": "execute_result"
    }
   ],
   "execution_count": 73
  },
  {
   "metadata": {
    "ExecuteTime": {
     "end_time": "2024-10-30T17:47:38.284741Z",
     "start_time": "2024-10-30T17:47:38.282311Z"
    }
   },
   "cell_type": "code",
   "source": "normalize_id(12345)",
   "id": "f90776984a1f4260",
   "outputs": [
    {
     "data": {
      "text/plain": [
       "'user-12345'"
      ]
     },
     "execution_count": 74,
     "metadata": {},
     "output_type": "execute_result"
    }
   ],
   "execution_count": 74
  },
  {
   "metadata": {
    "ExecuteTime": {
     "end_time": "2024-10-30T17:47:41.467973Z",
     "start_time": "2024-10-30T17:47:41.465404Z"
    }
   },
   "cell_type": "code",
   "source": "normalize_id(1)",
   "id": "320a3f24ab84ae66",
   "outputs": [
    {
     "data": {
      "text/plain": [
       "'user-00001'"
      ]
     },
     "execution_count": 75,
     "metadata": {},
     "output_type": "execute_result"
    }
   ],
   "execution_count": 75
  },
  {
   "metadata": {
    "ExecuteTime": {
     "end_time": "2024-10-30T17:49:45.252806Z",
     "start_time": "2024-10-30T17:49:45.249054Z"
    }
   },
   "cell_type": "code",
   "source": [
    "def greet(name: str) -> None:\n",
    "    print(\"Hello\", name)"
   ],
   "id": "e8149bb9903defbc",
   "outputs": [],
   "execution_count": 76
  },
  {
   "metadata": {
    "ExecuteTime": {
     "end_time": "2024-10-30T17:49:53.106261Z",
     "start_time": "2024-10-30T17:49:53.104077Z"
    }
   },
   "cell_type": "code",
   "source": "greet(\"John\")",
   "id": "c0b4f57cdf3c39df",
   "outputs": [
    {
     "name": "stdout",
     "output_type": "stream",
     "text": [
      "Hello John\n"
     ]
    }
   ],
   "execution_count": 77
  },
  {
   "metadata": {
    "ExecuteTime": {
     "end_time": "2024-10-30T17:51:11.845278Z",
     "start_time": "2024-10-30T17:51:11.840620Z"
    }
   },
   "cell_type": "code",
   "source": "greet(42)",
   "id": "2b4be92fee666c9",
   "outputs": [
    {
     "name": "stdout",
     "output_type": "stream",
     "text": [
      "Hello 42\n"
     ]
    }
   ],
   "execution_count": 78
  },
  {
   "metadata": {
    "ExecuteTime": {
     "end_time": "2024-10-30T17:51:23.691653Z",
     "start_time": "2024-10-30T17:51:23.689720Z"
    }
   },
   "cell_type": "code",
   "source": "greet(b\"Bob\")",
   "id": "a5be1533715d039a",
   "outputs": [
    {
     "name": "stdout",
     "output_type": "stream",
     "text": [
      "Hello b'Bob'\n"
     ]
    }
   ],
   "execution_count": 79
  },
  {
   "metadata": {
    "ExecuteTime": {
     "end_time": "2024-10-30T17:52:45.087590Z",
     "start_time": "2024-10-30T17:52:45.083387Z"
    }
   },
   "cell_type": "code",
   "source": [
    "def greet(name: str) -> str:\n",
    "    line = f\"Hello, {name.title()}\"\n",
    "    print(line)\n",
    "    return line"
   ],
   "id": "2beb8de75f8113",
   "outputs": [],
   "execution_count": 80
  },
  {
   "metadata": {
    "ExecuteTime": {
     "end_time": "2024-10-30T17:52:54.577037Z",
     "start_time": "2024-10-30T17:52:54.572105Z"
    }
   },
   "cell_type": "code",
   "source": "greet(\"john smith\")",
   "id": "5867f26eba5845ab",
   "outputs": [
    {
     "name": "stdout",
     "output_type": "stream",
     "text": [
      "Hello, John Smith\n"
     ]
    },
    {
     "data": {
      "text/plain": [
       "'Hello, John Smith'"
      ]
     },
     "execution_count": 81,
     "metadata": {},
     "output_type": "execute_result"
    }
   ],
   "execution_count": 81
  },
  {
   "metadata": {
    "ExecuteTime": {
     "end_time": "2024-10-30T17:54:03.043921Z",
     "start_time": "2024-10-30T17:54:03.039369Z"
    }
   },
   "cell_type": "code",
   "source": [
    "def square(num: float) -> float:\n",
    "    return num * num"
   ],
   "id": "f3846e8fc8d0dee9",
   "outputs": [],
   "execution_count": 82
  },
  {
   "metadata": {
    "ExecuteTime": {
     "end_time": "2024-10-30T17:55:32.736717Z",
     "start_time": "2024-10-30T17:55:32.732184Z"
    }
   },
   "cell_type": "code",
   "source": [
    "sq = square(5)\n",
    "print(sq)"
   ],
   "id": "a40ce20c2dd9c0c1",
   "outputs": [
    {
     "name": "stdout",
     "output_type": "stream",
     "text": [
      "25\n"
     ]
    }
   ],
   "execution_count": 83
  },
  {
   "metadata": {
    "ExecuteTime": {
     "end_time": "2024-10-30T17:56:56.475679Z",
     "start_time": "2024-10-30T17:56:56.471168Z"
    }
   },
   "cell_type": "code",
   "source": [
    "from typing import TypeVar\n",
    "\n",
    "IntOrFloat = TypeVar(\"IntOrFloat\", float, int)\n",
    "\n",
    "\n",
    "def cube(num: IntOrFloat) -> IntOrFloat:\n",
    "    return num**3\n",
    "\n",
    "\n",
    "sq = cube(5)\n",
    "print(sq)"
   ],
   "id": "643fd5b2705bb3b8",
   "outputs": [
    {
     "name": "stdout",
     "output_type": "stream",
     "text": [
      "125\n"
     ]
    }
   ],
   "execution_count": 84
  },
  {
   "metadata": {},
   "cell_type": "code",
   "outputs": [],
   "execution_count": null,
   "source": "",
   "id": "63e636c51a9a32ed"
  }
 ],
 "metadata": {
  "kernelspec": {
   "display_name": "Python 3",
   "language": "python",
   "name": "python3"
  },
  "language_info": {
   "codemirror_mode": {
    "name": "ipython",
    "version": 2
   },
   "file_extension": ".py",
   "mimetype": "text/x-python",
   "name": "python",
   "nbconvert_exporter": "python",
   "pygments_lexer": "ipython2",
   "version": "2.7.6"
  }
 },
 "nbformat": 4,
 "nbformat_minor": 5
}
